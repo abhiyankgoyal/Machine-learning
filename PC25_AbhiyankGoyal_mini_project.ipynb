{
 "cells": [
  {
   "cell_type": "markdown",
   "metadata": {},
   "source": [
    "# <div style=\"color:black; text-align:center\"><i>Student Alcohol Consumption</i></div>\n",
    "* Name: Abhiyank Goyal\n",
    "* Panel : 3\n",
    "* Roll No : PC-25\n",
    "* ERP id : 1032170652"
   ]
  },
  {
   "cell_type": "code",
   "execution_count": 38,
   "metadata": {},
   "outputs": [],
   "source": [
    "# importing the required libraries\n",
    "\n",
    "import numpy as np \n",
    "import pandas as pd \n",
    "import matplotlib.pyplot as plt\n",
    "from sklearn.impute import SimpleImputer\n",
    "from sklearn import preprocessing\n",
    "import math\n",
    "%matplotlib inline"
   ]
  },
  {
   "cell_type": "code",
   "execution_count": 40,
   "metadata": {},
   "outputs": [],
   "source": [
    "# reading the dataset\n",
    "df = pd.read_csv('student-mat.csv')"
   ]
  },
  {
   "cell_type": "code",
   "execution_count": 41,
   "metadata": {
    "scrolled": true
   },
   "outputs": [
    {
     "data": {
      "text/html": [
       "<div>\n",
       "<style scoped>\n",
       "    .dataframe tbody tr th:only-of-type {\n",
       "        vertical-align: middle;\n",
       "    }\n",
       "\n",
       "    .dataframe tbody tr th {\n",
       "        vertical-align: top;\n",
       "    }\n",
       "\n",
       "    .dataframe thead th {\n",
       "        text-align: right;\n",
       "    }\n",
       "</style>\n",
       "<table border=\"1\" class=\"dataframe\">\n",
       "  <thead>\n",
       "    <tr style=\"text-align: right;\">\n",
       "      <th></th>\n",
       "      <th>school</th>\n",
       "      <th>sex</th>\n",
       "      <th>age</th>\n",
       "      <th>address</th>\n",
       "      <th>famsize</th>\n",
       "      <th>Pstatus</th>\n",
       "      <th>Medu</th>\n",
       "      <th>Fedu</th>\n",
       "      <th>Mjob</th>\n",
       "      <th>Fjob</th>\n",
       "      <th>...</th>\n",
       "      <th>famrel</th>\n",
       "      <th>freetime</th>\n",
       "      <th>goout</th>\n",
       "      <th>Dalc</th>\n",
       "      <th>Walc</th>\n",
       "      <th>health</th>\n",
       "      <th>absences</th>\n",
       "      <th>G1</th>\n",
       "      <th>G2</th>\n",
       "      <th>G3</th>\n",
       "    </tr>\n",
       "  </thead>\n",
       "  <tbody>\n",
       "    <tr>\n",
       "      <td>0</td>\n",
       "      <td>GP</td>\n",
       "      <td>F</td>\n",
       "      <td>18</td>\n",
       "      <td>U</td>\n",
       "      <td>GT3</td>\n",
       "      <td>A</td>\n",
       "      <td>4</td>\n",
       "      <td>4</td>\n",
       "      <td>at_home</td>\n",
       "      <td>teacher</td>\n",
       "      <td>...</td>\n",
       "      <td>4</td>\n",
       "      <td>3</td>\n",
       "      <td>4</td>\n",
       "      <td>1</td>\n",
       "      <td>1</td>\n",
       "      <td>3</td>\n",
       "      <td>6</td>\n",
       "      <td>5</td>\n",
       "      <td>6</td>\n",
       "      <td>6</td>\n",
       "    </tr>\n",
       "    <tr>\n",
       "      <td>1</td>\n",
       "      <td>GP</td>\n",
       "      <td>F</td>\n",
       "      <td>17</td>\n",
       "      <td>U</td>\n",
       "      <td>GT3</td>\n",
       "      <td>T</td>\n",
       "      <td>1</td>\n",
       "      <td>1</td>\n",
       "      <td>at_home</td>\n",
       "      <td>other</td>\n",
       "      <td>...</td>\n",
       "      <td>5</td>\n",
       "      <td>3</td>\n",
       "      <td>3</td>\n",
       "      <td>1</td>\n",
       "      <td>1</td>\n",
       "      <td>3</td>\n",
       "      <td>4</td>\n",
       "      <td>5</td>\n",
       "      <td>5</td>\n",
       "      <td>6</td>\n",
       "    </tr>\n",
       "    <tr>\n",
       "      <td>2</td>\n",
       "      <td>GP</td>\n",
       "      <td>F</td>\n",
       "      <td>15</td>\n",
       "      <td>U</td>\n",
       "      <td>LE3</td>\n",
       "      <td>T</td>\n",
       "      <td>1</td>\n",
       "      <td>1</td>\n",
       "      <td>at_home</td>\n",
       "      <td>other</td>\n",
       "      <td>...</td>\n",
       "      <td>4</td>\n",
       "      <td>3</td>\n",
       "      <td>2</td>\n",
       "      <td>2</td>\n",
       "      <td>3</td>\n",
       "      <td>3</td>\n",
       "      <td>10</td>\n",
       "      <td>7</td>\n",
       "      <td>8</td>\n",
       "      <td>10</td>\n",
       "    </tr>\n",
       "    <tr>\n",
       "      <td>3</td>\n",
       "      <td>GP</td>\n",
       "      <td>F</td>\n",
       "      <td>15</td>\n",
       "      <td>U</td>\n",
       "      <td>GT3</td>\n",
       "      <td>T</td>\n",
       "      <td>4</td>\n",
       "      <td>2</td>\n",
       "      <td>health</td>\n",
       "      <td>services</td>\n",
       "      <td>...</td>\n",
       "      <td>3</td>\n",
       "      <td>2</td>\n",
       "      <td>2</td>\n",
       "      <td>1</td>\n",
       "      <td>1</td>\n",
       "      <td>5</td>\n",
       "      <td>2</td>\n",
       "      <td>15</td>\n",
       "      <td>14</td>\n",
       "      <td>15</td>\n",
       "    </tr>\n",
       "    <tr>\n",
       "      <td>4</td>\n",
       "      <td>GP</td>\n",
       "      <td>F</td>\n",
       "      <td>16</td>\n",
       "      <td>U</td>\n",
       "      <td>GT3</td>\n",
       "      <td>T</td>\n",
       "      <td>3</td>\n",
       "      <td>3</td>\n",
       "      <td>other</td>\n",
       "      <td>other</td>\n",
       "      <td>...</td>\n",
       "      <td>4</td>\n",
       "      <td>3</td>\n",
       "      <td>2</td>\n",
       "      <td>1</td>\n",
       "      <td>2</td>\n",
       "      <td>5</td>\n",
       "      <td>4</td>\n",
       "      <td>6</td>\n",
       "      <td>10</td>\n",
       "      <td>10</td>\n",
       "    </tr>\n",
       "  </tbody>\n",
       "</table>\n",
       "<p>5 rows × 33 columns</p>\n",
       "</div>"
      ],
      "text/plain": [
       "  school sex  age address famsize Pstatus  Medu  Fedu     Mjob      Fjob  ...  \\\n",
       "0     GP   F   18       U     GT3       A     4     4  at_home   teacher  ...   \n",
       "1     GP   F   17       U     GT3       T     1     1  at_home     other  ...   \n",
       "2     GP   F   15       U     LE3       T     1     1  at_home     other  ...   \n",
       "3     GP   F   15       U     GT3       T     4     2   health  services  ...   \n",
       "4     GP   F   16       U     GT3       T     3     3    other     other  ...   \n",
       "\n",
       "  famrel freetime  goout  Dalc  Walc health absences  G1  G2  G3  \n",
       "0      4        3      4     1     1      3        6   5   6   6  \n",
       "1      5        3      3     1     1      3        4   5   5   6  \n",
       "2      4        3      2     2     3      3       10   7   8  10  \n",
       "3      3        2      2     1     1      5        2  15  14  15  \n",
       "4      4        3      2     1     2      5        4   6  10  10  \n",
       "\n",
       "[5 rows x 33 columns]"
      ]
     },
     "execution_count": 41,
     "metadata": {},
     "output_type": "execute_result"
    }
   ],
   "source": [
    "# displaying first 5 rows\n",
    "df.head()"
   ]
  },
  {
   "cell_type": "markdown",
   "metadata": {},
   "source": [
    "# Dataset explaination\n",
    "\n",
    "* <b>school</b> – student’s school (binary: ‘GP’ – Gabriel Pereira or ‘MS’ – Mousinho da Silveira)\n",
    "* <b>sex</b> – student’s sex (binary: ‘F’ – female or ‘M’ – male)\n",
    "* <b>age</b> – student’s age (numeric: from 15 to 22)\n",
    "* <b>address</b> – student’s home address type (binary: ‘U’ – urban or ‘R’ – rural)\n",
    "* <b>famsize</b> – family size (binary: ‘LE3’ – less or equal to 3 or ‘GT3’ – greater than 3)\n",
    "* <b>Pstatus</b> – parent’s cohabitation status (binary: ‘T’ – living together or ‘A’ – apart)\n",
    "* <b>Medu</b> – mother’s education (numeric: 0 – none, 1 – primary education (4th grade), 2 5th to 9th grade, 3 secondary education or 4 higher education)\n",
    "* <b>Fedu</b> – father’s education (numeric: 0 – none, 1 – primary education (4th grade), 2 5th to 9th grade, 3 secondary education or 4 higher education)\n",
    "* <b>Mjob</b> – mother’s job (nominal: ‘teacher’, ‘health’ care related, civil ‘services’ (e.g. administrative or police), ‘at_home’ or ‘other’)\n",
    "* <b>Fjob</b> – father’s job (nominal: ‘teacher’, ‘health’ care related, civil ‘services’ (e.g. administrative or police), ‘at_home’ or ‘other’)\n",
    "* <b>reason</b> – reason to choose this school (nominal: close to ‘home’, school ‘reputation’, ‘course’ preference or ‘other’)\n",
    "* <b>guardian</b> – student’s guardian (nominal: ‘mother’, ‘father’ or ‘other’)\n",
    "* <b>traveltime</b> – home to school travel time (numeric: 1 – <15 min., 2 – 15 to 30 min., 3 – 30 min. to 1 hour, or 4 – >1 hour)\n",
    "* <b>studytime</b> – weekly study time (numeric: 1 – <2 hours, 2 – 2 to 5 hours, 3 – 5 to 10 hours, or 4 – >10 hours)\n",
    "* <b>failures</b> – number of past class failures (numeric: n if 1<=n<3, else 4)\n",
    "* <b>schoolsup</b> – extra educational support (binary: yes or no)\n",
    "* <b>famsup</b> – family educational support (binary: yes or no)\n",
    "* <b>paid</b> – extra paid classes within the course subject (Math or Portuguese) (binary: yes or no)\n",
    "* <b>activities</b> – extra-curricular activities (binary: yes or no)\n",
    "* <b>nursery</b> – attended nursery school (binary: yes or no)\n",
    "* <b>higher</b> – wants to take higher education (binary: yes or no)\n",
    "* <b>internet</b> – Internet access at home (binary: yes or no)\n",
    "* <b>romantic</b> – with a romantic relationship (binary: yes or no)\n",
    "* <b>famrel</b> – quality of family relationships (numeric: from 1 – very bad to 5 – excellent)\n",
    "* <b>freetime</b> – free time after school (numeric: from 1 – very low to 5 – very high)\n",
    "* <b>goout</b> – going out with friends (numeric: from 1 – very low to 5 – very high)\n",
    "* <b>Dalc</b> – workday alcohol consumption (numeric: from 1 – very low to 5 – very high)\n",
    "* <b>Walc</b> – weekend alcohol consumption (numeric: from 1 – very low to 5 – very high)\n",
    "* <b>health</b> – current health status (numeric: from 1 – very bad to 5 – very good)\n",
    "* <b>absences</b> – number of school absences (numeric: from 0 to 93)\n",
    "* The following grades are related with the course subject, Math or Portuguese:\n",
    "\n",
    "* <b>G1</b> – first period grade (numeric: from 0 to 20)\n",
    "* <b>G2</b> – second period grade (numeric: from 0 to 20)\n",
    "* <b>G3</b> – final grade (numeric: from 0 to 20, output target)"
   ]
  },
  {
   "cell_type": "code",
   "execution_count": 42,
   "metadata": {},
   "outputs": [
    {
     "data": {
      "text/plain": [
       "Index(['school', 'sex', 'age', 'address', 'famsize', 'Pstatus', 'Medu', 'Fedu',\n",
       "       'Mjob', 'Fjob', 'reason', 'guardian', 'traveltime', 'studytime',\n",
       "       'failures', 'schoolsup', 'famsup', 'paid', 'activities', 'nursery',\n",
       "       'higher', 'internet', 'romantic', 'famrel', 'freetime', 'goout', 'Dalc',\n",
       "       'Walc', 'health', 'absences', 'G1', 'G2', 'G3'],\n",
       "      dtype='object')"
      ]
     },
     "execution_count": 42,
     "metadata": {},
     "output_type": "execute_result"
    }
   ],
   "source": [
    "# displaying columns in the dataset\n",
    "df.columns"
   ]
  },
  {
   "cell_type": "code",
   "execution_count": 44,
   "metadata": {
    "scrolled": true
   },
   "outputs": [
    {
     "data": {
      "text/html": [
       "<div>\n",
       "<style scoped>\n",
       "    .dataframe tbody tr th:only-of-type {\n",
       "        vertical-align: middle;\n",
       "    }\n",
       "\n",
       "    .dataframe tbody tr th {\n",
       "        vertical-align: top;\n",
       "    }\n",
       "\n",
       "    .dataframe thead th {\n",
       "        text-align: right;\n",
       "    }\n",
       "</style>\n",
       "<table border=\"1\" class=\"dataframe\">\n",
       "  <thead>\n",
       "    <tr style=\"text-align: right;\">\n",
       "      <th></th>\n",
       "      <th>age</th>\n",
       "      <th>Medu</th>\n",
       "      <th>Fedu</th>\n",
       "      <th>traveltime</th>\n",
       "      <th>studytime</th>\n",
       "      <th>failures</th>\n",
       "      <th>famrel</th>\n",
       "      <th>freetime</th>\n",
       "      <th>goout</th>\n",
       "      <th>Dalc</th>\n",
       "      <th>Walc</th>\n",
       "      <th>health</th>\n",
       "      <th>absences</th>\n",
       "      <th>G1</th>\n",
       "      <th>G2</th>\n",
       "      <th>G3</th>\n",
       "    </tr>\n",
       "  </thead>\n",
       "  <tbody>\n",
       "    <tr>\n",
       "      <td>count</td>\n",
       "      <td>395.000000</td>\n",
       "      <td>395.000000</td>\n",
       "      <td>395.000000</td>\n",
       "      <td>395.000000</td>\n",
       "      <td>395.000000</td>\n",
       "      <td>395.000000</td>\n",
       "      <td>395.000000</td>\n",
       "      <td>395.000000</td>\n",
       "      <td>395.000000</td>\n",
       "      <td>395.000000</td>\n",
       "      <td>395.000000</td>\n",
       "      <td>395.000000</td>\n",
       "      <td>395.000000</td>\n",
       "      <td>395.000000</td>\n",
       "      <td>395.000000</td>\n",
       "      <td>395.000000</td>\n",
       "    </tr>\n",
       "    <tr>\n",
       "      <td>mean</td>\n",
       "      <td>16.696203</td>\n",
       "      <td>2.749367</td>\n",
       "      <td>2.521519</td>\n",
       "      <td>1.448101</td>\n",
       "      <td>2.035443</td>\n",
       "      <td>0.334177</td>\n",
       "      <td>3.944304</td>\n",
       "      <td>3.235443</td>\n",
       "      <td>3.108861</td>\n",
       "      <td>1.481013</td>\n",
       "      <td>2.291139</td>\n",
       "      <td>3.554430</td>\n",
       "      <td>5.708861</td>\n",
       "      <td>10.908861</td>\n",
       "      <td>10.713924</td>\n",
       "      <td>10.415190</td>\n",
       "    </tr>\n",
       "    <tr>\n",
       "      <td>std</td>\n",
       "      <td>1.276043</td>\n",
       "      <td>1.094735</td>\n",
       "      <td>1.088201</td>\n",
       "      <td>0.697505</td>\n",
       "      <td>0.839240</td>\n",
       "      <td>0.743651</td>\n",
       "      <td>0.896659</td>\n",
       "      <td>0.998862</td>\n",
       "      <td>1.113278</td>\n",
       "      <td>0.890741</td>\n",
       "      <td>1.287897</td>\n",
       "      <td>1.390303</td>\n",
       "      <td>8.003096</td>\n",
       "      <td>3.319195</td>\n",
       "      <td>3.761505</td>\n",
       "      <td>4.581443</td>\n",
       "    </tr>\n",
       "    <tr>\n",
       "      <td>min</td>\n",
       "      <td>15.000000</td>\n",
       "      <td>0.000000</td>\n",
       "      <td>0.000000</td>\n",
       "      <td>1.000000</td>\n",
       "      <td>1.000000</td>\n",
       "      <td>0.000000</td>\n",
       "      <td>1.000000</td>\n",
       "      <td>1.000000</td>\n",
       "      <td>1.000000</td>\n",
       "      <td>1.000000</td>\n",
       "      <td>1.000000</td>\n",
       "      <td>1.000000</td>\n",
       "      <td>0.000000</td>\n",
       "      <td>3.000000</td>\n",
       "      <td>0.000000</td>\n",
       "      <td>0.000000</td>\n",
       "    </tr>\n",
       "    <tr>\n",
       "      <td>25%</td>\n",
       "      <td>16.000000</td>\n",
       "      <td>2.000000</td>\n",
       "      <td>2.000000</td>\n",
       "      <td>1.000000</td>\n",
       "      <td>1.000000</td>\n",
       "      <td>0.000000</td>\n",
       "      <td>4.000000</td>\n",
       "      <td>3.000000</td>\n",
       "      <td>2.000000</td>\n",
       "      <td>1.000000</td>\n",
       "      <td>1.000000</td>\n",
       "      <td>3.000000</td>\n",
       "      <td>0.000000</td>\n",
       "      <td>8.000000</td>\n",
       "      <td>9.000000</td>\n",
       "      <td>8.000000</td>\n",
       "    </tr>\n",
       "    <tr>\n",
       "      <td>50%</td>\n",
       "      <td>17.000000</td>\n",
       "      <td>3.000000</td>\n",
       "      <td>2.000000</td>\n",
       "      <td>1.000000</td>\n",
       "      <td>2.000000</td>\n",
       "      <td>0.000000</td>\n",
       "      <td>4.000000</td>\n",
       "      <td>3.000000</td>\n",
       "      <td>3.000000</td>\n",
       "      <td>1.000000</td>\n",
       "      <td>2.000000</td>\n",
       "      <td>4.000000</td>\n",
       "      <td>4.000000</td>\n",
       "      <td>11.000000</td>\n",
       "      <td>11.000000</td>\n",
       "      <td>11.000000</td>\n",
       "    </tr>\n",
       "    <tr>\n",
       "      <td>75%</td>\n",
       "      <td>18.000000</td>\n",
       "      <td>4.000000</td>\n",
       "      <td>3.000000</td>\n",
       "      <td>2.000000</td>\n",
       "      <td>2.000000</td>\n",
       "      <td>0.000000</td>\n",
       "      <td>5.000000</td>\n",
       "      <td>4.000000</td>\n",
       "      <td>4.000000</td>\n",
       "      <td>2.000000</td>\n",
       "      <td>3.000000</td>\n",
       "      <td>5.000000</td>\n",
       "      <td>8.000000</td>\n",
       "      <td>13.000000</td>\n",
       "      <td>13.000000</td>\n",
       "      <td>14.000000</td>\n",
       "    </tr>\n",
       "    <tr>\n",
       "      <td>max</td>\n",
       "      <td>22.000000</td>\n",
       "      <td>4.000000</td>\n",
       "      <td>4.000000</td>\n",
       "      <td>4.000000</td>\n",
       "      <td>4.000000</td>\n",
       "      <td>3.000000</td>\n",
       "      <td>5.000000</td>\n",
       "      <td>5.000000</td>\n",
       "      <td>5.000000</td>\n",
       "      <td>5.000000</td>\n",
       "      <td>5.000000</td>\n",
       "      <td>5.000000</td>\n",
       "      <td>75.000000</td>\n",
       "      <td>19.000000</td>\n",
       "      <td>19.000000</td>\n",
       "      <td>20.000000</td>\n",
       "    </tr>\n",
       "  </tbody>\n",
       "</table>\n",
       "</div>"
      ],
      "text/plain": [
       "              age        Medu        Fedu  traveltime   studytime    failures  \\\n",
       "count  395.000000  395.000000  395.000000  395.000000  395.000000  395.000000   \n",
       "mean    16.696203    2.749367    2.521519    1.448101    2.035443    0.334177   \n",
       "std      1.276043    1.094735    1.088201    0.697505    0.839240    0.743651   \n",
       "min     15.000000    0.000000    0.000000    1.000000    1.000000    0.000000   \n",
       "25%     16.000000    2.000000    2.000000    1.000000    1.000000    0.000000   \n",
       "50%     17.000000    3.000000    2.000000    1.000000    2.000000    0.000000   \n",
       "75%     18.000000    4.000000    3.000000    2.000000    2.000000    0.000000   \n",
       "max     22.000000    4.000000    4.000000    4.000000    4.000000    3.000000   \n",
       "\n",
       "           famrel    freetime       goout        Dalc        Walc      health  \\\n",
       "count  395.000000  395.000000  395.000000  395.000000  395.000000  395.000000   \n",
       "mean     3.944304    3.235443    3.108861    1.481013    2.291139    3.554430   \n",
       "std      0.896659    0.998862    1.113278    0.890741    1.287897    1.390303   \n",
       "min      1.000000    1.000000    1.000000    1.000000    1.000000    1.000000   \n",
       "25%      4.000000    3.000000    2.000000    1.000000    1.000000    3.000000   \n",
       "50%      4.000000    3.000000    3.000000    1.000000    2.000000    4.000000   \n",
       "75%      5.000000    4.000000    4.000000    2.000000    3.000000    5.000000   \n",
       "max      5.000000    5.000000    5.000000    5.000000    5.000000    5.000000   \n",
       "\n",
       "         absences          G1          G2          G3  \n",
       "count  395.000000  395.000000  395.000000  395.000000  \n",
       "mean     5.708861   10.908861   10.713924   10.415190  \n",
       "std      8.003096    3.319195    3.761505    4.581443  \n",
       "min      0.000000    3.000000    0.000000    0.000000  \n",
       "25%      0.000000    8.000000    9.000000    8.000000  \n",
       "50%      4.000000   11.000000   11.000000   11.000000  \n",
       "75%      8.000000   13.000000   13.000000   14.000000  \n",
       "max     75.000000   19.000000   19.000000   20.000000  "
      ]
     },
     "execution_count": 44,
     "metadata": {},
     "output_type": "execute_result"
    }
   ],
   "source": [
    "# describing the datatset\n",
    "df.describe()"
   ]
  },
  {
   "cell_type": "code",
   "execution_count": 46,
   "metadata": {},
   "outputs": [
    {
     "name": "stdout",
     "output_type": "stream",
     "text": [
      "<class 'pandas.core.frame.DataFrame'>\n",
      "RangeIndex: 395 entries, 0 to 394\n",
      "Data columns (total 33 columns):\n",
      "school        395 non-null object\n",
      "sex           395 non-null object\n",
      "age           395 non-null int64\n",
      "address       395 non-null object\n",
      "famsize       395 non-null object\n",
      "Pstatus       395 non-null object\n",
      "Medu          395 non-null int64\n",
      "Fedu          395 non-null int64\n",
      "Mjob          395 non-null object\n",
      "Fjob          395 non-null object\n",
      "reason        395 non-null object\n",
      "guardian      395 non-null object\n",
      "traveltime    395 non-null int64\n",
      "studytime     395 non-null int64\n",
      "failures      395 non-null int64\n",
      "schoolsup     395 non-null object\n",
      "famsup        395 non-null object\n",
      "paid          395 non-null object\n",
      "activities    395 non-null object\n",
      "nursery       395 non-null object\n",
      "higher        395 non-null object\n",
      "internet      395 non-null object\n",
      "romantic      395 non-null object\n",
      "famrel        395 non-null int64\n",
      "freetime      395 non-null int64\n",
      "goout         395 non-null int64\n",
      "Dalc          395 non-null int64\n",
      "Walc          395 non-null int64\n",
      "health        395 non-null int64\n",
      "absences      395 non-null int64\n",
      "G1            395 non-null int64\n",
      "G2            395 non-null int64\n",
      "G3            395 non-null int64\n",
      "dtypes: int64(16), object(17)\n",
      "memory usage: 102.0+ KB\n"
     ]
    }
   ],
   "source": [
    "df.info()"
   ]
  },
  {
   "cell_type": "code",
   "execution_count": 32,
   "metadata": {},
   "outputs": [
    {
     "data": {
      "text/plain": [
       "(395, 33)"
      ]
     },
     "execution_count": 32,
     "metadata": {},
     "output_type": "execute_result"
    }
   ],
   "source": [
    "# displaying no.of rows and columns \n",
    "math.shape"
   ]
  },
  {
   "cell_type": "code",
   "execution_count": 33,
   "metadata": {},
   "outputs": [
    {
     "data": {
      "text/plain": [
       "0"
      ]
     },
     "execution_count": 33,
     "metadata": {},
     "output_type": "execute_result"
    }
   ],
   "source": [
    "math.isnull().any().sum()"
   ]
  },
  {
   "cell_type": "code",
   "execution_count": 48,
   "metadata": {},
   "outputs": [
    {
     "data": {
      "text/plain": [
       "course        145\n",
       "home          109\n",
       "reputation    105\n",
       "other          36\n",
       "Name: reason, dtype: int64"
      ]
     },
     "execution_count": 48,
     "metadata": {},
     "output_type": "execute_result"
    }
   ],
   "source": [
    "# there is no missing data as can be seen above\n",
    "\n",
    "df[\"reason\"].value_counts()"
   ]
  },
  {
   "cell_type": "code",
   "execution_count": 49,
   "metadata": {},
   "outputs": [
    {
     "data": {
      "text/plain": [
       "no     214\n",
       "yes    181\n",
       "Name: paid, dtype: int64"
      ]
     },
     "execution_count": 49,
     "metadata": {},
     "output_type": "execute_result"
    }
   ],
   "source": [
    "df[\"paid\"].value_counts()"
   ]
  },
  {
   "cell_type": "code",
   "execution_count": 50,
   "metadata": {},
   "outputs": [
    {
     "data": {
      "text/plain": [
       "no     263\n",
       "yes    132\n",
       "Name: romantic, dtype: int64"
      ]
     },
     "execution_count": 50,
     "metadata": {},
     "output_type": "execute_result"
    }
   ],
   "source": [
    "df[\"romantic\"].value_counts()"
   ]
  },
  {
   "cell_type": "code",
   "execution_count": 51,
   "metadata": {},
   "outputs": [
    {
     "data": {
      "text/plain": [
       "yes    314\n",
       "no      81\n",
       "Name: nursery, dtype: int64"
      ]
     },
     "execution_count": 51,
     "metadata": {},
     "output_type": "execute_result"
    }
   ],
   "source": [
    "df[\"nursery\"].value_counts()"
   ]
  },
  {
   "cell_type": "code",
   "execution_count": 53,
   "metadata": {},
   "outputs": [],
   "source": [
    "corr_matrix = df.corr()"
   ]
  },
  {
   "cell_type": "code",
   "execution_count": 54,
   "metadata": {},
   "outputs": [
    {
     "data": {
      "text/html": [
       "<div>\n",
       "<style scoped>\n",
       "    .dataframe tbody tr th:only-of-type {\n",
       "        vertical-align: middle;\n",
       "    }\n",
       "\n",
       "    .dataframe tbody tr th {\n",
       "        vertical-align: top;\n",
       "    }\n",
       "\n",
       "    .dataframe thead th {\n",
       "        text-align: right;\n",
       "    }\n",
       "</style>\n",
       "<table border=\"1\" class=\"dataframe\">\n",
       "  <thead>\n",
       "    <tr style=\"text-align: right;\">\n",
       "      <th></th>\n",
       "      <th>age</th>\n",
       "      <th>Medu</th>\n",
       "      <th>Fedu</th>\n",
       "      <th>traveltime</th>\n",
       "      <th>studytime</th>\n",
       "      <th>failures</th>\n",
       "      <th>famrel</th>\n",
       "      <th>freetime</th>\n",
       "      <th>goout</th>\n",
       "      <th>Dalc</th>\n",
       "      <th>Walc</th>\n",
       "      <th>health</th>\n",
       "      <th>absences</th>\n",
       "      <th>G1</th>\n",
       "      <th>G2</th>\n",
       "      <th>G3</th>\n",
       "    </tr>\n",
       "  </thead>\n",
       "  <tbody>\n",
       "    <tr>\n",
       "      <td>age</td>\n",
       "      <td>1.000000</td>\n",
       "      <td>-0.163658</td>\n",
       "      <td>-0.163438</td>\n",
       "      <td>0.070641</td>\n",
       "      <td>-0.004140</td>\n",
       "      <td>0.243665</td>\n",
       "      <td>0.053940</td>\n",
       "      <td>0.016434</td>\n",
       "      <td>0.126964</td>\n",
       "      <td>0.131125</td>\n",
       "      <td>0.117276</td>\n",
       "      <td>-0.062187</td>\n",
       "      <td>0.175230</td>\n",
       "      <td>-0.064081</td>\n",
       "      <td>-0.143474</td>\n",
       "      <td>-0.161579</td>\n",
       "    </tr>\n",
       "    <tr>\n",
       "      <td>Medu</td>\n",
       "      <td>-0.163658</td>\n",
       "      <td>1.000000</td>\n",
       "      <td>0.623455</td>\n",
       "      <td>-0.171639</td>\n",
       "      <td>0.064944</td>\n",
       "      <td>-0.236680</td>\n",
       "      <td>-0.003914</td>\n",
       "      <td>0.030891</td>\n",
       "      <td>0.064094</td>\n",
       "      <td>0.019834</td>\n",
       "      <td>-0.047123</td>\n",
       "      <td>-0.046878</td>\n",
       "      <td>0.100285</td>\n",
       "      <td>0.205341</td>\n",
       "      <td>0.215527</td>\n",
       "      <td>0.217147</td>\n",
       "    </tr>\n",
       "    <tr>\n",
       "      <td>Fedu</td>\n",
       "      <td>-0.163438</td>\n",
       "      <td>0.623455</td>\n",
       "      <td>1.000000</td>\n",
       "      <td>-0.158194</td>\n",
       "      <td>-0.009175</td>\n",
       "      <td>-0.250408</td>\n",
       "      <td>-0.001370</td>\n",
       "      <td>-0.012846</td>\n",
       "      <td>0.043105</td>\n",
       "      <td>0.002386</td>\n",
       "      <td>-0.012631</td>\n",
       "      <td>0.014742</td>\n",
       "      <td>0.024473</td>\n",
       "      <td>0.190270</td>\n",
       "      <td>0.164893</td>\n",
       "      <td>0.152457</td>\n",
       "    </tr>\n",
       "    <tr>\n",
       "      <td>traveltime</td>\n",
       "      <td>0.070641</td>\n",
       "      <td>-0.171639</td>\n",
       "      <td>-0.158194</td>\n",
       "      <td>1.000000</td>\n",
       "      <td>-0.100909</td>\n",
       "      <td>0.092239</td>\n",
       "      <td>-0.016808</td>\n",
       "      <td>-0.017025</td>\n",
       "      <td>0.028540</td>\n",
       "      <td>0.138325</td>\n",
       "      <td>0.134116</td>\n",
       "      <td>0.007501</td>\n",
       "      <td>-0.012944</td>\n",
       "      <td>-0.093040</td>\n",
       "      <td>-0.153198</td>\n",
       "      <td>-0.117142</td>\n",
       "    </tr>\n",
       "    <tr>\n",
       "      <td>studytime</td>\n",
       "      <td>-0.004140</td>\n",
       "      <td>0.064944</td>\n",
       "      <td>-0.009175</td>\n",
       "      <td>-0.100909</td>\n",
       "      <td>1.000000</td>\n",
       "      <td>-0.173563</td>\n",
       "      <td>0.039731</td>\n",
       "      <td>-0.143198</td>\n",
       "      <td>-0.063904</td>\n",
       "      <td>-0.196019</td>\n",
       "      <td>-0.253785</td>\n",
       "      <td>-0.075616</td>\n",
       "      <td>-0.062700</td>\n",
       "      <td>0.160612</td>\n",
       "      <td>0.135880</td>\n",
       "      <td>0.097820</td>\n",
       "    </tr>\n",
       "    <tr>\n",
       "      <td>failures</td>\n",
       "      <td>0.243665</td>\n",
       "      <td>-0.236680</td>\n",
       "      <td>-0.250408</td>\n",
       "      <td>0.092239</td>\n",
       "      <td>-0.173563</td>\n",
       "      <td>1.000000</td>\n",
       "      <td>-0.044337</td>\n",
       "      <td>0.091987</td>\n",
       "      <td>0.124561</td>\n",
       "      <td>0.136047</td>\n",
       "      <td>0.141962</td>\n",
       "      <td>0.065827</td>\n",
       "      <td>0.063726</td>\n",
       "      <td>-0.354718</td>\n",
       "      <td>-0.355896</td>\n",
       "      <td>-0.360415</td>\n",
       "    </tr>\n",
       "    <tr>\n",
       "      <td>famrel</td>\n",
       "      <td>0.053940</td>\n",
       "      <td>-0.003914</td>\n",
       "      <td>-0.001370</td>\n",
       "      <td>-0.016808</td>\n",
       "      <td>0.039731</td>\n",
       "      <td>-0.044337</td>\n",
       "      <td>1.000000</td>\n",
       "      <td>0.150701</td>\n",
       "      <td>0.064568</td>\n",
       "      <td>-0.077594</td>\n",
       "      <td>-0.113397</td>\n",
       "      <td>0.094056</td>\n",
       "      <td>-0.044354</td>\n",
       "      <td>0.022168</td>\n",
       "      <td>-0.018281</td>\n",
       "      <td>0.051363</td>\n",
       "    </tr>\n",
       "    <tr>\n",
       "      <td>freetime</td>\n",
       "      <td>0.016434</td>\n",
       "      <td>0.030891</td>\n",
       "      <td>-0.012846</td>\n",
       "      <td>-0.017025</td>\n",
       "      <td>-0.143198</td>\n",
       "      <td>0.091987</td>\n",
       "      <td>0.150701</td>\n",
       "      <td>1.000000</td>\n",
       "      <td>0.285019</td>\n",
       "      <td>0.209001</td>\n",
       "      <td>0.147822</td>\n",
       "      <td>0.075733</td>\n",
       "      <td>-0.058078</td>\n",
       "      <td>0.012613</td>\n",
       "      <td>-0.013777</td>\n",
       "      <td>0.011307</td>\n",
       "    </tr>\n",
       "    <tr>\n",
       "      <td>goout</td>\n",
       "      <td>0.126964</td>\n",
       "      <td>0.064094</td>\n",
       "      <td>0.043105</td>\n",
       "      <td>0.028540</td>\n",
       "      <td>-0.063904</td>\n",
       "      <td>0.124561</td>\n",
       "      <td>0.064568</td>\n",
       "      <td>0.285019</td>\n",
       "      <td>1.000000</td>\n",
       "      <td>0.266994</td>\n",
       "      <td>0.420386</td>\n",
       "      <td>-0.009577</td>\n",
       "      <td>0.044302</td>\n",
       "      <td>-0.149104</td>\n",
       "      <td>-0.162250</td>\n",
       "      <td>-0.132791</td>\n",
       "    </tr>\n",
       "    <tr>\n",
       "      <td>Dalc</td>\n",
       "      <td>0.131125</td>\n",
       "      <td>0.019834</td>\n",
       "      <td>0.002386</td>\n",
       "      <td>0.138325</td>\n",
       "      <td>-0.196019</td>\n",
       "      <td>0.136047</td>\n",
       "      <td>-0.077594</td>\n",
       "      <td>0.209001</td>\n",
       "      <td>0.266994</td>\n",
       "      <td>1.000000</td>\n",
       "      <td>0.647544</td>\n",
       "      <td>0.077180</td>\n",
       "      <td>0.111908</td>\n",
       "      <td>-0.094159</td>\n",
       "      <td>-0.064120</td>\n",
       "      <td>-0.054660</td>\n",
       "    </tr>\n",
       "    <tr>\n",
       "      <td>Walc</td>\n",
       "      <td>0.117276</td>\n",
       "      <td>-0.047123</td>\n",
       "      <td>-0.012631</td>\n",
       "      <td>0.134116</td>\n",
       "      <td>-0.253785</td>\n",
       "      <td>0.141962</td>\n",
       "      <td>-0.113397</td>\n",
       "      <td>0.147822</td>\n",
       "      <td>0.420386</td>\n",
       "      <td>0.647544</td>\n",
       "      <td>1.000000</td>\n",
       "      <td>0.092476</td>\n",
       "      <td>0.136291</td>\n",
       "      <td>-0.126179</td>\n",
       "      <td>-0.084927</td>\n",
       "      <td>-0.051939</td>\n",
       "    </tr>\n",
       "    <tr>\n",
       "      <td>health</td>\n",
       "      <td>-0.062187</td>\n",
       "      <td>-0.046878</td>\n",
       "      <td>0.014742</td>\n",
       "      <td>0.007501</td>\n",
       "      <td>-0.075616</td>\n",
       "      <td>0.065827</td>\n",
       "      <td>0.094056</td>\n",
       "      <td>0.075733</td>\n",
       "      <td>-0.009577</td>\n",
       "      <td>0.077180</td>\n",
       "      <td>0.092476</td>\n",
       "      <td>1.000000</td>\n",
       "      <td>-0.029937</td>\n",
       "      <td>-0.073172</td>\n",
       "      <td>-0.097720</td>\n",
       "      <td>-0.061335</td>\n",
       "    </tr>\n",
       "    <tr>\n",
       "      <td>absences</td>\n",
       "      <td>0.175230</td>\n",
       "      <td>0.100285</td>\n",
       "      <td>0.024473</td>\n",
       "      <td>-0.012944</td>\n",
       "      <td>-0.062700</td>\n",
       "      <td>0.063726</td>\n",
       "      <td>-0.044354</td>\n",
       "      <td>-0.058078</td>\n",
       "      <td>0.044302</td>\n",
       "      <td>0.111908</td>\n",
       "      <td>0.136291</td>\n",
       "      <td>-0.029937</td>\n",
       "      <td>1.000000</td>\n",
       "      <td>-0.031003</td>\n",
       "      <td>-0.031777</td>\n",
       "      <td>0.034247</td>\n",
       "    </tr>\n",
       "    <tr>\n",
       "      <td>G1</td>\n",
       "      <td>-0.064081</td>\n",
       "      <td>0.205341</td>\n",
       "      <td>0.190270</td>\n",
       "      <td>-0.093040</td>\n",
       "      <td>0.160612</td>\n",
       "      <td>-0.354718</td>\n",
       "      <td>0.022168</td>\n",
       "      <td>0.012613</td>\n",
       "      <td>-0.149104</td>\n",
       "      <td>-0.094159</td>\n",
       "      <td>-0.126179</td>\n",
       "      <td>-0.073172</td>\n",
       "      <td>-0.031003</td>\n",
       "      <td>1.000000</td>\n",
       "      <td>0.852118</td>\n",
       "      <td>0.801468</td>\n",
       "    </tr>\n",
       "    <tr>\n",
       "      <td>G2</td>\n",
       "      <td>-0.143474</td>\n",
       "      <td>0.215527</td>\n",
       "      <td>0.164893</td>\n",
       "      <td>-0.153198</td>\n",
       "      <td>0.135880</td>\n",
       "      <td>-0.355896</td>\n",
       "      <td>-0.018281</td>\n",
       "      <td>-0.013777</td>\n",
       "      <td>-0.162250</td>\n",
       "      <td>-0.064120</td>\n",
       "      <td>-0.084927</td>\n",
       "      <td>-0.097720</td>\n",
       "      <td>-0.031777</td>\n",
       "      <td>0.852118</td>\n",
       "      <td>1.000000</td>\n",
       "      <td>0.904868</td>\n",
       "    </tr>\n",
       "    <tr>\n",
       "      <td>G3</td>\n",
       "      <td>-0.161579</td>\n",
       "      <td>0.217147</td>\n",
       "      <td>0.152457</td>\n",
       "      <td>-0.117142</td>\n",
       "      <td>0.097820</td>\n",
       "      <td>-0.360415</td>\n",
       "      <td>0.051363</td>\n",
       "      <td>0.011307</td>\n",
       "      <td>-0.132791</td>\n",
       "      <td>-0.054660</td>\n",
       "      <td>-0.051939</td>\n",
       "      <td>-0.061335</td>\n",
       "      <td>0.034247</td>\n",
       "      <td>0.801468</td>\n",
       "      <td>0.904868</td>\n",
       "      <td>1.000000</td>\n",
       "    </tr>\n",
       "  </tbody>\n",
       "</table>\n",
       "</div>"
      ],
      "text/plain": [
       "                 age      Medu      Fedu  traveltime  studytime  failures  \\\n",
       "age         1.000000 -0.163658 -0.163438    0.070641  -0.004140  0.243665   \n",
       "Medu       -0.163658  1.000000  0.623455   -0.171639   0.064944 -0.236680   \n",
       "Fedu       -0.163438  0.623455  1.000000   -0.158194  -0.009175 -0.250408   \n",
       "traveltime  0.070641 -0.171639 -0.158194    1.000000  -0.100909  0.092239   \n",
       "studytime  -0.004140  0.064944 -0.009175   -0.100909   1.000000 -0.173563   \n",
       "failures    0.243665 -0.236680 -0.250408    0.092239  -0.173563  1.000000   \n",
       "famrel      0.053940 -0.003914 -0.001370   -0.016808   0.039731 -0.044337   \n",
       "freetime    0.016434  0.030891 -0.012846   -0.017025  -0.143198  0.091987   \n",
       "goout       0.126964  0.064094  0.043105    0.028540  -0.063904  0.124561   \n",
       "Dalc        0.131125  0.019834  0.002386    0.138325  -0.196019  0.136047   \n",
       "Walc        0.117276 -0.047123 -0.012631    0.134116  -0.253785  0.141962   \n",
       "health     -0.062187 -0.046878  0.014742    0.007501  -0.075616  0.065827   \n",
       "absences    0.175230  0.100285  0.024473   -0.012944  -0.062700  0.063726   \n",
       "G1         -0.064081  0.205341  0.190270   -0.093040   0.160612 -0.354718   \n",
       "G2         -0.143474  0.215527  0.164893   -0.153198   0.135880 -0.355896   \n",
       "G3         -0.161579  0.217147  0.152457   -0.117142   0.097820 -0.360415   \n",
       "\n",
       "              famrel  freetime     goout      Dalc      Walc    health  \\\n",
       "age         0.053940  0.016434  0.126964  0.131125  0.117276 -0.062187   \n",
       "Medu       -0.003914  0.030891  0.064094  0.019834 -0.047123 -0.046878   \n",
       "Fedu       -0.001370 -0.012846  0.043105  0.002386 -0.012631  0.014742   \n",
       "traveltime -0.016808 -0.017025  0.028540  0.138325  0.134116  0.007501   \n",
       "studytime   0.039731 -0.143198 -0.063904 -0.196019 -0.253785 -0.075616   \n",
       "failures   -0.044337  0.091987  0.124561  0.136047  0.141962  0.065827   \n",
       "famrel      1.000000  0.150701  0.064568 -0.077594 -0.113397  0.094056   \n",
       "freetime    0.150701  1.000000  0.285019  0.209001  0.147822  0.075733   \n",
       "goout       0.064568  0.285019  1.000000  0.266994  0.420386 -0.009577   \n",
       "Dalc       -0.077594  0.209001  0.266994  1.000000  0.647544  0.077180   \n",
       "Walc       -0.113397  0.147822  0.420386  0.647544  1.000000  0.092476   \n",
       "health      0.094056  0.075733 -0.009577  0.077180  0.092476  1.000000   \n",
       "absences   -0.044354 -0.058078  0.044302  0.111908  0.136291 -0.029937   \n",
       "G1          0.022168  0.012613 -0.149104 -0.094159 -0.126179 -0.073172   \n",
       "G2         -0.018281 -0.013777 -0.162250 -0.064120 -0.084927 -0.097720   \n",
       "G3          0.051363  0.011307 -0.132791 -0.054660 -0.051939 -0.061335   \n",
       "\n",
       "            absences        G1        G2        G3  \n",
       "age         0.175230 -0.064081 -0.143474 -0.161579  \n",
       "Medu        0.100285  0.205341  0.215527  0.217147  \n",
       "Fedu        0.024473  0.190270  0.164893  0.152457  \n",
       "traveltime -0.012944 -0.093040 -0.153198 -0.117142  \n",
       "studytime  -0.062700  0.160612  0.135880  0.097820  \n",
       "failures    0.063726 -0.354718 -0.355896 -0.360415  \n",
       "famrel     -0.044354  0.022168 -0.018281  0.051363  \n",
       "freetime   -0.058078  0.012613 -0.013777  0.011307  \n",
       "goout       0.044302 -0.149104 -0.162250 -0.132791  \n",
       "Dalc        0.111908 -0.094159 -0.064120 -0.054660  \n",
       "Walc        0.136291 -0.126179 -0.084927 -0.051939  \n",
       "health     -0.029937 -0.073172 -0.097720 -0.061335  \n",
       "absences    1.000000 -0.031003 -0.031777  0.034247  \n",
       "G1         -0.031003  1.000000  0.852118  0.801468  \n",
       "G2         -0.031777  0.852118  1.000000  0.904868  \n",
       "G3          0.034247  0.801468  0.904868  1.000000  "
      ]
     },
     "execution_count": 54,
     "metadata": {},
     "output_type": "execute_result"
    }
   ],
   "source": [
    "corr_matrix"
   ]
  },
  {
   "cell_type": "markdown",
   "metadata": {},
   "source": [
    "# Data Visualization"
   ]
  },
  {
   "cell_type": "code",
   "execution_count": 55,
   "metadata": {},
   "outputs": [],
   "source": [
    "import seaborn as sn\n",
    "import matplotlib.pyplot as plt"
   ]
  },
  {
   "cell_type": "code",
   "execution_count": 134,
   "metadata": {},
   "outputs": [
    {
     "data": {
      "text/plain": [
       "(array([ 0.5,  1.5,  2.5,  3.5,  4.5,  5.5,  6.5,  7.5,  8.5,  9.5, 10.5,\n",
       "        11.5, 12.5, 13.5, 14.5, 15.5, 16.5, 17.5]),\n",
       " <a list of 18 Text yticklabel objects>)"
      ]
     },
     "execution_count": 134,
     "metadata": {},
     "output_type": "execute_result"
    },
    {
     "data": {
      "image/png": "[encoded data removed]",
      "text/plain": [
       "<Figure size 1080x1080 with 2 Axes>"
      ]
     },
     "metadata": {
      "needs_background": "light"
     },
     "output_type": "display_data"
    }
   ],
   "source": [
    "plt.figure(figsize=(15,15))\n",
    "sns.heatmap(df.corr(), annot = True, fmt= \".2f\", cbar = True)\n",
    "plt.xticks(rotation=90)\n",
    "plt.yticks(rotation=0)"
   ]
  },
  {
   "cell_type": "markdown",
   "metadata": {},
   "source": [
    "<div style=\"text-align:center\"><b>Correlation matrix</b></div>"
   ]
  },
  {
   "cell_type": "code",
   "execution_count": 135,
   "metadata": {},
   "outputs": [
    {
     "data": {
      "text/plain": [
       "Dalc          1.000000\n",
       "Walc          0.647544\n",
       "goout         0.266994\n",
       "freetime      0.209001\n",
       "traveltime    0.138325\n",
       "failures      0.136047\n",
       "age           0.131125\n",
       "absences      0.111908\n",
       "health        0.077180\n",
       "Medu          0.019834\n",
       "Fedu          0.002386\n",
       "G3           -0.054660\n",
       "G2           -0.064120\n",
       "famrel       -0.077594\n",
       "G1           -0.094159\n",
       "studytime    -0.196019\n",
       "Name: Dalc, dtype: float64"
      ]
     },
     "execution_count": 135,
     "metadata": {},
     "output_type": "execute_result"
    }
   ],
   "source": [
    "corr_matrix[\"Dalc\"].sort_values(ascending=False)"
   ]
  },
  {
   "cell_type": "code",
   "execution_count": 138,
   "metadata": {},
   "outputs": [
    {
     "data": {
      "image/png": "[encoded data removed]",
      "text/plain": [
       "<Figure size 360x360 with 1 Axes>"
      ]
     },
     "metadata": {
      "needs_background": "light"
     },
     "output_type": "display_data"
    }
   ],
   "source": [
    "#Age\n",
    "df.age.unique()\n",
    "plt.figure(figsize=(5,5))\n",
    "plt.hist(df.age,bins=7,color=\"mediumpurple\",width=0.8,density=True)\n",
    "plt.xlabel(\"Age\")\n",
    "plt.ylabel(\"Percentage\")\n",
    "plt.show()"
   ]
  },
  {
   "cell_type": "code",
   "execution_count": 147,
   "metadata": {},
   "outputs": [
    {
     "data": {
      "text/html": [
       "<div>\n",
       "<style scoped>\n",
       "    .dataframe tbody tr th:only-of-type {\n",
       "        vertical-align: middle;\n",
       "    }\n",
       "\n",
       "    .dataframe tbody tr th {\n",
       "        vertical-align: top;\n",
       "    }\n",
       "\n",
       "    .dataframe thead th {\n",
       "        text-align: right;\n",
       "    }\n",
       "</style>\n",
       "<table border=\"1\" class=\"dataframe\">\n",
       "  <thead>\n",
       "    <tr style=\"text-align: right;\">\n",
       "      <th></th>\n",
       "      <th>Feature</th>\n",
       "      <th>Count</th>\n",
       "      <th>Average Working Day Alcohol Consumption</th>\n",
       "      <th>Average Weekend Alcohol Consumption</th>\n",
       "    </tr>\n",
       "  </thead>\n",
       "  <tbody>\n",
       "    <tr>\n",
       "      <td>0</td>\n",
       "      <td>All Students</td>\n",
       "      <td>395</td>\n",
       "      <td>1.481013</td>\n",
       "      <td>2.291139</td>\n",
       "    </tr>\n",
       "    <tr>\n",
       "      <td>1</td>\n",
       "      <td>Age 15</td>\n",
       "      <td>82</td>\n",
       "      <td>1.353659</td>\n",
       "      <td>1.902439</td>\n",
       "    </tr>\n",
       "    <tr>\n",
       "      <td>2</td>\n",
       "      <td>Age 16</td>\n",
       "      <td>104</td>\n",
       "      <td>1.432692</td>\n",
       "      <td>2.278846</td>\n",
       "    </tr>\n",
       "    <tr>\n",
       "      <td>3</td>\n",
       "      <td>Age 17</td>\n",
       "      <td>98</td>\n",
       "      <td>1.520408</td>\n",
       "      <td>2.571429</td>\n",
       "    </tr>\n",
       "    <tr>\n",
       "      <td>4</td>\n",
       "      <td>Age 18</td>\n",
       "      <td>82</td>\n",
       "      <td>1.548780</td>\n",
       "      <td>2.414634</td>\n",
       "    </tr>\n",
       "    <tr>\n",
       "      <td>5</td>\n",
       "      <td>Age 19</td>\n",
       "      <td>24</td>\n",
       "      <td>1.458333</td>\n",
       "      <td>1.958333</td>\n",
       "    </tr>\n",
       "    <tr>\n",
       "      <td>6</td>\n",
       "      <td>Age 20</td>\n",
       "      <td>3</td>\n",
       "      <td>2.000000</td>\n",
       "      <td>2.333333</td>\n",
       "    </tr>\n",
       "    <tr>\n",
       "      <td>7</td>\n",
       "      <td>Age 21</td>\n",
       "      <td>1</td>\n",
       "      <td>3.000000</td>\n",
       "      <td>3.000000</td>\n",
       "    </tr>\n",
       "    <tr>\n",
       "      <td>8</td>\n",
       "      <td>Female</td>\n",
       "      <td>208</td>\n",
       "      <td>1.254808</td>\n",
       "      <td>1.956731</td>\n",
       "    </tr>\n",
       "    <tr>\n",
       "      <td>9</td>\n",
       "      <td>Male</td>\n",
       "      <td>187</td>\n",
       "      <td>1.732620</td>\n",
       "      <td>2.663102</td>\n",
       "    </tr>\n",
       "    <tr>\n",
       "      <td>10</td>\n",
       "      <td>GP</td>\n",
       "      <td>349</td>\n",
       "      <td>1.444126</td>\n",
       "      <td>2.260745</td>\n",
       "    </tr>\n",
       "    <tr>\n",
       "      <td>11</td>\n",
       "      <td>MS</td>\n",
       "      <td>46</td>\n",
       "      <td>1.760870</td>\n",
       "      <td>2.521739</td>\n",
       "    </tr>\n",
       "    <tr>\n",
       "      <td>12</td>\n",
       "      <td>Urban</td>\n",
       "      <td>307</td>\n",
       "      <td>1.436482</td>\n",
       "      <td>2.221498</td>\n",
       "    </tr>\n",
       "    <tr>\n",
       "      <td>13</td>\n",
       "      <td>Rural</td>\n",
       "      <td>88</td>\n",
       "      <td>1.636364</td>\n",
       "      <td>2.534091</td>\n",
       "    </tr>\n",
       "  </tbody>\n",
       "</table>\n",
       "</div>"
      ],
      "text/plain": [
       "         Feature  Count  Average Working Day Alcohol Consumption  \\\n",
       "0   All Students    395                                 1.481013   \n",
       "1         Age 15     82                                 1.353659   \n",
       "2         Age 16    104                                 1.432692   \n",
       "3         Age 17     98                                 1.520408   \n",
       "4         Age 18     82                                 1.548780   \n",
       "5         Age 19     24                                 1.458333   \n",
       "6         Age 20      3                                 2.000000   \n",
       "7         Age 21      1                                 3.000000   \n",
       "8         Female    208                                 1.254808   \n",
       "9           Male    187                                 1.732620   \n",
       "10            GP    349                                 1.444126   \n",
       "11            MS     46                                 1.760870   \n",
       "12         Urban    307                                 1.436482   \n",
       "13         Rural     88                                 1.636364   \n",
       "\n",
       "    Average Weekend Alcohol Consumption  \n",
       "0                              2.291139  \n",
       "1                              1.902439  \n",
       "2                              2.278846  \n",
       "3                              2.571429  \n",
       "4                              2.414634  \n",
       "5                              1.958333  \n",
       "6                              2.333333  \n",
       "7                              3.000000  \n",
       "8                              1.956731  \n",
       "9                              2.663102  \n",
       "10                             2.260745  \n",
       "11                             2.521739  \n",
       "12                             2.221498  \n",
       "13                             2.534091  "
      ]
     },
     "execution_count": 147,
     "metadata": {},
     "output_type": "execute_result"
    }
   ],
   "source": [
    "age15=df[(df.age==15)]\n",
    "age16=df[(df.age==16)]\n",
    "age17=df[(df.age==17)]\n",
    "age18=df[(df.age==18)]\n",
    "age19=df[(df.age==19)]\n",
    "age20=df[(df.age==20)]\n",
    "age21=df[(df.age==21)]\n",
    "female=df[df.sex==\"F\"]\n",
    "male= df[df.sex==\"M\"]\n",
    "GP=df[df.school==\"GP\"]\n",
    "MS= df[df.school==\"MS\"]\n",
    "urban=df[df.address==\"U\"]\n",
    "rural= df[df.address==\"R\"]\n",
    "d= {\"Feature\": [\"All Students\",\"Age 15\",\"Age 16\",\"Age 17\",\"Age 18\", \"Age 19\", \"Age 20\", \"Age 21\", \"Female\",\"Male\",\"GP\",\"MS\",\"Urban\",\"Rural\"],\n",
    "    \"Count\": [df.shape[0],age15.shape[0],age16.shape[0],age17.shape[0],age18.shape[0],age19.shape[0],age20.shape[0],age21.shape[0],female.shape[0],male.shape[0],GP.shape[0],MS.shape[0],urban.shape[0],rural.shape[0]],\n",
    "    \"Average Working Day Alcohol Consumption\": [df.Dalc.mean(),age15.Dalc.mean(),age16.Dalc.mean(),age17.Dalc.mean(),age18.Dalc.mean(),age19.Dalc.mean(),age20.Dalc.mean(),age21.Dalc.mean(),female.Dalc.mean(),male.Dalc.mean(),GP.Dalc.mean(),MS.Dalc.mean(),urban.Dalc.mean(),rural.Dalc.mean()],\n",
    "    \"Average Weekend Alcohol Consumption\": [df.Walc.mean(),age15.Walc.mean(),age16.Walc.mean(),age17.Walc.mean(),age18.Walc.mean(),age19.Walc.mean(),age20.Walc.mean(),age21.Walc.mean(),female.Walc.mean(),male.Walc.mean(),GP.Walc.mean(),MS.Walc.mean(),urban.Walc.mean(),rural.Walc.mean()]}\n",
    "\n",
    "ds=pd.DataFrame(d)\n",
    "ds"
   ]
  },
  {
   "cell_type": "markdown",
   "metadata": {},
   "source": [
    "When we consider the average alcohol consumption levels of all students, we see that all of the features we examined are very close to the average levels of alcohol consumption. In the df table above, features are shown according to their number and average working day and weekenend alcohol consumption levels(from 1 - very low to 5 - very high)."
   ]
  },
  {
   "cell_type": "markdown",
   "metadata": {},
   "source": [
    "<b>Does the education and job status of parents affect their child's grade?</b>"
   ]
  },
  {
   "cell_type": "code",
   "execution_count": 148,
   "metadata": {},
   "outputs": [
    {
     "data": {
      "image/png": "[encoded data removed]",
      "text/plain": [
       "<Figure size 1124.62x216 with 5 Axes>"
      ]
     },
     "metadata": {
      "needs_background": "light"
     },
     "output_type": "display_data"
    }
   ],
   "source": [
    "ax = sns.FacetGrid(df,  col = 'Medu', hue = 'sex').map(plt.hist, 'G3').add_legend()\n",
    "ax.fig.suptitle(\"Student Grade Analysis by Mother's Education\")\n",
    "plt.subplots_adjust(top = 0.7)\n",
    "plt.show()"
   ]
  },
  {
   "cell_type": "code",
   "execution_count": 149,
   "metadata": {},
   "outputs": [
    {
     "data": {
      "text/plain": [
       "Medu\n",
       "0    13.000000\n",
       "1     8.677966\n",
       "2     9.728155\n",
       "3    10.303030\n",
       "4    11.763359\n",
       "Name: G3, dtype: float64"
      ]
     },
     "execution_count": 149,
     "metadata": {},
     "output_type": "execute_result"
    }
   ],
   "source": [
    "df.groupby('Medu')['G3'].mean()"
   ]
  },
  {
   "cell_type": "markdown",
   "metadata": {},
   "source": [
    "* There is no direct relationship observed between the mother's education status and student's grade.\n",
    "* As we could see from the graph, students of least educated mothers have also secured good grades whereas students of highly educated mothers have secured less grades.\n",
    "* Considering the average grade, students of highly educated mothers have scored high."
   ]
  },
  {
   "cell_type": "code",
   "execution_count": 150,
   "metadata": {},
   "outputs": [
    {
     "data": {
      "image/png": "[encoded data removed]",
      "text/plain": [
       "<Figure size 1124.62x216 with 5 Axes>"
      ]
     },
     "metadata": {
      "needs_background": "light"
     },
     "output_type": "display_data"
    }
   ],
   "source": [
    "ax = sns.FacetGrid(df, col = 'Fedu', hue = 'sex').map(plt.hist, 'G3').add_legend()\n",
    "ax.fig.suptitle(\"Student Grade Analysis by Father's Education\")\n",
    "plt.subplots_adjust(top = 0.7)\n",
    "plt.show()"
   ]
  },
  {
   "cell_type": "code",
   "execution_count": 151,
   "metadata": {},
   "outputs": [
    {
     "data": {
      "text/plain": [
       "Fedu\n",
       "0    13.000000\n",
       "1     9.158537\n",
       "2    10.260870\n",
       "3    10.660000\n",
       "4    11.364583\n",
       "Name: G3, dtype: float64"
      ]
     },
     "execution_count": 151,
     "metadata": {},
     "output_type": "execute_result"
    }
   ],
   "source": [
    "df.groupby('Fedu')['G3'].mean()"
   ]
  },
  {
   "cell_type": "markdown",
   "metadata": {},
   "source": [
    "Here the trend is more or less same as that of the previous one."
   ]
  },
  {
   "cell_type": "code",
   "execution_count": 154,
   "metadata": {},
   "outputs": [
    {
     "data": {
      "image/png": "[encoded data removed]",
      "text/plain": [
       "<Figure size 1124.62x216 with 5 Axes>"
      ]
     },
     "metadata": {
      "needs_background": "light"
     },
     "output_type": "display_data"
    }
   ],
   "source": [
    "ax = sns.FacetGrid(df, col = 'Mjob', hue = 'sex').map(plt.hist, 'G3').add_legend()\n",
    "ax.fig.suptitle(\"Student Grade Analysis by Mother's Occupation\")\n",
    "plt.subplots_adjust(top = 0.7)\n",
    "plt.show()"
   ]
  },
  {
   "cell_type": "code",
   "execution_count": 155,
   "metadata": {},
   "outputs": [
    {
     "data": {
      "text/plain": [
       "Mjob\n",
       "at_home      9.152542\n",
       "health      12.147059\n",
       "other        9.822695\n",
       "services    11.019417\n",
       "teacher     11.051724\n",
       "Name: G3, dtype: float64"
      ]
     },
     "execution_count": 155,
     "metadata": {},
     "output_type": "execute_result"
    }
   ],
   "source": [
    "df.groupby('Mjob')['G3'].mean()"
   ]
  },
  {
   "cell_type": "code",
   "execution_count": 156,
   "metadata": {},
   "outputs": [
    {
     "data": {
      "image/png": "[encoded data removed]",
      "text/plain": [
       "<Figure size 1124.62x216 with 5 Axes>"
      ]
     },
     "metadata": {
      "needs_background": "light"
     },
     "output_type": "display_data"
    }
   ],
   "source": [
    "ax = sns.FacetGrid(df, col = 'Fjob', hue = 'sex').map(plt.hist, 'G3').add_legend()\n",
    "ax.fig.suptitle(\"Student Grade Analysis by Father's Occupation\")\n",
    "plt.subplots_adjust(top = 0.7)\n",
    "plt.show()"
   ]
  },
  {
   "cell_type": "code",
   "execution_count": 157,
   "metadata": {},
   "outputs": [
    {
     "data": {
      "text/plain": [
       "Fjob\n",
       "at_home     10.150000\n",
       "health      11.611111\n",
       "other       10.193548\n",
       "services    10.297297\n",
       "teacher     11.965517\n",
       "Name: G3, dtype: float64"
      ]
     },
     "execution_count": 157,
     "metadata": {},
     "output_type": "execute_result"
    }
   ],
   "source": [
    "df.groupby('Fjob')['G3'].mean()"
   ]
  },
  {
   "cell_type": "markdown",
   "metadata": {},
   "source": [
    "* As we could see from the graph, students whose parents are teachers have secured a good grade at an average."
   ]
  },
  {
   "cell_type": "markdown",
   "metadata": {},
   "source": [
    "<b>Do students who travel more tend to study less?</b>"
   ]
  },
  {
   "cell_type": "code",
   "execution_count": 158,
   "metadata": {},
   "outputs": [
    {
     "data": {
      "image/png": "[encoded data removed]",
      "text/plain": [
       "<Figure size 922.25x864 with 16 Axes>"
      ]
     },
     "metadata": {
      "needs_background": "light"
     },
     "output_type": "display_data"
    }
   ],
   "source": [
    "ax = sns.FacetGrid(df, col = 'studytime', row = 'traveltime', hue = 'studytime').map(plt.hist, 'G3').add_legend()\n",
    "ax.fig.suptitle(\"Student Grade Analysis by Study Time & Travel Time\")\n",
    "plt.subplots_adjust(top = 0.9)\n",
    "plt.show()"
   ]
  },
  {
   "cell_type": "code",
   "execution_count": 159,
   "metadata": {},
   "outputs": [
    {
     "data": {
      "image/png": "[encoded data removed]",
      "text/plain": [
       "<Figure size 404.625x360 with 1 Axes>"
      ]
     },
     "metadata": {
      "needs_background": "light"
     },
     "output_type": "display_data"
    }
   ],
   "source": [
    "ax = sns.lmplot(x = 'studytime',y = 'G3', hue = 'sex', data = df, palette = 'Set1')\n",
    "ax.fig.suptitle('Correlation b/w Study Time and Grade')\n",
    "plt.subplots_adjust(top = 0.9)"
   ]
  },
  {
   "cell_type": "markdown",
   "metadata": {},
   "source": [
    "* Students who travel more than 2 hours is less in number.\n",
    "* Students who travel for more than 2 hours are spending less time to study.\n",
    "* Students who travel less than 2 hours have mixed preferences in their study pattern. There are few students who use this time to study for more hours, but most of them study for less than 2 hours.\n",
    "* As expected, study time is influencing the grade. Students whose study time is more were able to secure a good grade."
   ]
  },
  {
   "cell_type": "markdown",
   "metadata": {},
   "source": [
    "<b>Do students require additional educational support to secure good grade?</b>"
   ]
  },
  {
   "cell_type": "code",
   "execution_count": 163,
   "metadata": {},
   "outputs": [
    {
     "data": {
      "image/png": "[encoded data removed]",
      "text/plain": [
       "<Figure size 404.625x360 with 1 Axes>"
      ]
     },
     "metadata": {
      "needs_background": "light"
     },
     "output_type": "display_data"
    },
    {
     "data": {
      "image/png": "[encoded data removed]",
      "text/plain": [
       "<Figure size 404.625x360 with 1 Axes>"
      ]
     },
     "metadata": {
      "needs_background": "light"
     },
     "output_type": "display_data"
    },
    {
     "data": {
      "image/png": "[encoded data removed]",
      "text/plain": [
       "<Figure size 404.625x360 with 1 Axes>"
      ]
     },
     "metadata": {
      "needs_background": "light"
     },
     "output_type": "display_data"
    }
   ],
   "source": [
    "sns.catplot(x = 'schoolsup',y = 'G3', hue = 'sex', data = df, kind = 'bar', ci = None)\n",
    "plt.title('Effect of Extra Educational Support on Grade')\n",
    "plt.ylabel('Avg. Grade')\n",
    "plt.show()\n",
    "sns.catplot(x = 'famsup',y = 'G3', hue = 'sex', data = df, kind = 'bar', ci = None)\n",
    "plt.title('Effect of Family Educational Support on Grade')\n",
    "plt.ylabel('Avg. Grade')\n",
    "plt.show()\n",
    "sns.catplot(x = 'paid',y = 'G3', hue = 'sex', data = df, kind = 'bar', ci = None)\n",
    "plt.title('Effect of Tuitions on Grade')\n",
    "plt.ylabel('Avg. Grade')\n",
    "plt.show()"
   ]
  },
  {
   "cell_type": "code",
   "execution_count": 164,
   "metadata": {},
   "outputs": [
    {
     "name": "stdout",
     "output_type": "stream",
     "text": [
      "Object `grade` not found.\n"
     ]
    }
   ],
   "source": [
    "Are students with internet connection scoring good grade?"
   ]
  },
  {
   "cell_type": "markdown",
   "metadata": {},
   "source": [
    "<b>Are students with internet connection scoring good gradeM</b>"
   ]
  },
  {
   "cell_type": "code",
   "execution_count": 165,
   "metadata": {},
   "outputs": [
    {
     "data": {
      "image/png": "[encoded data removed]",
      "text/plain": [
       "<Figure size 360x360 with 1 Axes>"
      ]
     },
     "metadata": {
      "needs_background": "light"
     },
     "output_type": "display_data"
    }
   ],
   "source": [
    "sns.catplot(x = 'internet', y = 'G3', kind = 'bar', data = df)\n",
    "plt.title('Effect of Internet on Grade')\n",
    "plt.ylabel('Avg. Grade')\n",
    "plt.show()"
   ]
  },
  {
   "cell_type": "markdown",
   "metadata": {},
   "source": [
    "As expected, average grade of students who have internet connection at their homes is higher than that of students who do not access internet."
   ]
  },
  {
   "cell_type": "markdown",
   "metadata": {},
   "source": [
    "<b>Is alcohol consumption influencing student's grade?</b>"
   ]
  },
  {
   "cell_type": "code",
   "execution_count": 167,
   "metadata": {},
   "outputs": [
    {
     "data": {
      "image/png": "[encoded data removed]",
      "text/plain": [
       "<Figure size 1122.38x1080 with 25 Axes>"
      ]
     },
     "metadata": {
      "needs_background": "light"
     },
     "output_type": "display_data"
    }
   ],
   "source": [
    "ax = sns.FacetGrid(df, col = 'Dalc', row = 'goout', hue = 'Dalc').map(plt.hist, 'G3').add_legend()\n",
    "ax.fig.suptitle(\"Effects of Personal Preferences on Grades\")\n",
    "plt.subplots_adjust(top = 0.95)\n",
    "plt.show()"
   ]
  },
  {
   "cell_type": "code",
   "execution_count": 168,
   "metadata": {},
   "outputs": [
    {
     "data": {
      "image/png": "[encoded data removed]",
      "text/plain": [
       "<Figure size 404.625x360 with 1 Axes>"
      ]
     },
     "metadata": {
      "needs_background": "light"
     },
     "output_type": "display_data"
    }
   ],
   "source": [
    "ax = sns.lmplot(x = 'goout',y = 'Dalc', hue = 'sex', data = df, palette = 'Set1')\n",
    "ax.fig.suptitle('Correlation b/w Hanging out and Alcohol Consumption')\n",
    "plt.subplots_adjust(top = 0.9)"
   ]
  },
  {
   "cell_type": "markdown",
   "metadata": {},
   "source": [
    "* Correlation between hanging out and consuming alcohol is different for each of the genders.\n",
    "* Male Students who hang out more frequently consume more alcohol whereas it is not the same for female students.\n",
    "* But this is not affecting their grades."
   ]
  },
  {
   "cell_type": "code",
   "execution_count": 170,
   "metadata": {},
   "outputs": [
    {
     "data": {
      "image/png": "[encoded data removed]",
      "text/plain": [
       "<Figure size 1122.38x1080 with 25 Axes>"
      ]
     },
     "metadata": {
      "needs_background": "light"
     },
     "output_type": "display_data"
    }
   ],
   "source": [
    "ax = sns.FacetGrid(df, col = 'Walc', row = 'goout', hue = 'Walc').map(plt.hist, 'G3').add_legend()\n",
    "ax.fig.suptitle(\"Effects of Personal Preferences on Grades\")\n",
    "plt.subplots_adjust(top = 0.95)\n",
    "plt.show()"
   ]
  },
  {
   "cell_type": "code",
   "execution_count": 171,
   "metadata": {},
   "outputs": [
    {
     "data": {
      "image/png": "[encoded data removed]",
      "text/plain": [
       "<Figure size 404.625x360 with 1 Axes>"
      ]
     },
     "metadata": {
      "needs_background": "light"
     },
     "output_type": "display_data"
    }
   ],
   "source": [
    "ax = sns.lmplot(x = 'goout',y = 'Walc', hue = 'sex', data = df, palette = 'Set1')\n",
    "ax.fig.suptitle('Correlation b/w Hanging out and Alcohol Consumption')\n",
    "plt.subplots_adjust(top = 0.9)\n"
   ]
  },
  {
   "cell_type": "markdown",
   "metadata": {},
   "source": [
    "* The alcohol consumption pattern is quite different in weekends.\n",
    "* Students who go out more frequently during weekends tend to consume more alcohol.\n",
    "* However it is not affecting their grades at a larger scale."
   ]
  },
  {
   "cell_type": "markdown",
   "metadata": {},
   "source": [
    "<b>Do absentees fail more?</b>"
   ]
  },
  {
   "cell_type": "code",
   "execution_count": 175,
   "metadata": {},
   "outputs": [
    {
     "data": {
      "image/png": "[encoded data removed]",
      "text/plain": [
       "<Figure size 404.625x360 with 1 Axes>"
      ]
     },
     "metadata": {
      "needs_background": "light"
     },
     "output_type": "display_data"
    }
   ],
   "source": [
    "ax = sns.lmplot(x = 'failures',y = 'absences', hue = 'sex', data = df, palette = 'Set1')\n",
    "ax.fig.suptitle('Correlation b/w Absences and Failures in Subjects')\n",
    "plt.subplots_adjust(top = 0.9)\n"
   ]
  },
  {
   "cell_type": "markdown",
   "metadata": {},
   "source": [
    "There is no much linear correlation seen between the absenteeism and failure in exams"
   ]
  },
  {
   "cell_type": "markdown",
   "metadata": {},
   "source": [
    "### Conclusion\n",
    "* Some interesting insights are derived from this dataset which are summarized as below.\n",
    "* As age of the students increases, the failure also raises. This may be because the adolescents tend to hang out more and involve in activities which could distract them from studies.\n",
    "* Avg grade of students who have highly educated parents is higher than others.\n",
    "* Students who study for more hours tend to score high.\n",
    "* Failure rate impacts the student's grade.\n",
    "* Students who have more free time tend to hang out much.\n",
    "* Students who hang out more frequently consume alcohol in weekends. However this is not influencing their grades.\n",
    "* absenteeism does not affect failures in exams much"
   ]
  },
  {
   "cell_type": "code",
   "execution_count": 60,
   "metadata": {},
   "outputs": [
    {
     "data": {
      "text/plain": [
       "Index(['school', 'sex', 'address', 'famsize', 'Pstatus', 'Mjob', 'Fjob',\n",
       "       'reason', 'guardian', 'schoolsup', 'famsup', 'paid', 'activities',\n",
       "       'nursery', 'higher', 'internet', 'romantic'],\n",
       "      dtype='object')"
      ]
     },
     "execution_count": 60,
     "metadata": {},
     "output_type": "execute_result"
    }
   ],
   "source": [
    "object_type_features = df.select_dtypes(\"object\").columns\n",
    "object_type_features "
   ]
  },
  {
   "cell_type": "markdown",
   "metadata": {},
   "source": [
    "# PCA"
   ]
  },
  {
   "cell_type": "code",
   "execution_count": 179,
   "metadata": {},
   "outputs": [],
   "source": [
    "from sklearn.decomposition import PCA\n",
    "pca = PCA(n_components = 2)\n",
    "X2D = pca.fit_transform(X)"
   ]
  },
  {
   "cell_type": "code",
   "execution_count": 180,
   "metadata": {},
   "outputs": [
    {
     "name": "stdout",
     "output_type": "stream",
     "text": [
      "[0.83089893 0.0353494 ]\n"
     ]
    }
   ],
   "source": [
    "print(pca.explained_variance_ratio_)"
   ]
  },
  {
   "cell_type": "code",
   "execution_count": 181,
   "metadata": {},
   "outputs": [
    {
     "name": "stdout",
     "output_type": "stream",
     "text": [
      "     age  Medu  Fedu  traveltime  studytime  failures  famrel  freetime  \\\n",
      "0     18     4     4           2          2         0       4         3   \n",
      "1     17     1     1           1          2         0       5         3   \n",
      "2     15     1     1           1          2         3       4         3   \n",
      "3     15     4     2           1          3         0       3         2   \n",
      "4     16     3     3           1          2         0       4         3   \n",
      "..   ...   ...   ...         ...        ...       ...     ...       ...   \n",
      "390   20     2     2           1          2         2       5         5   \n",
      "391   17     3     1           2          1         0       2         4   \n",
      "392   21     1     1           1          1         3       5         5   \n",
      "393   18     3     2           3          1         0       4         4   \n",
      "394   19     1     1           1          1         0       3         2   \n",
      "\n",
      "     goout  Dalc  Walc  health  absences  \n",
      "0        4     1     1       3         6  \n",
      "1        3     1     1       3         4  \n",
      "2        2     2     3       3        10  \n",
      "3        2     1     1       5         2  \n",
      "4        2     1     2       5         4  \n",
      "..     ...   ...   ...     ...       ...  \n",
      "390      4     4     5       4        11  \n",
      "391      5     3     4       2         3  \n",
      "392      3     3     3       3         3  \n",
      "393      1     3     4       5         0  \n",
      "394      3     3     3       5         5  \n",
      "\n",
      "[395 rows x 13 columns]\n"
     ]
    }
   ],
   "source": [
    "print(X)"
   ]
  },
  {
   "cell_type": "code",
   "execution_count": 182,
   "metadata": {},
   "outputs": [
    {
     "name": "stdout",
     "output_type": "stream",
     "text": [
      "6\n"
     ]
    }
   ],
   "source": [
    "pca = PCA()\n",
    "pca.fit(X)\n",
    "cumsum = np.cumsum(pca.explained_variance_ratio_)\n",
    "d = np.argmax(cumsum >= 0.95) + 1\n",
    "print(d)"
   ]
  },
  {
   "cell_type": "code",
   "execution_count": 183,
   "metadata": {},
   "outputs": [
    {
     "name": "stdout",
     "output_type": "stream",
     "text": [
      "[[ 3.22882653e-01 -8.98610238e-01]\n",
      " [-1.76626411e+00 -7.01369186e-01]\n",
      " [ 4.24573432e+00  3.29167171e-01]\n",
      " [-3.78340017e+00 -2.16131176e+00]\n",
      " [-1.74986087e+00 -8.89727606e-01]\n",
      " [ 4.24588714e+00 -9.95454987e-01]\n",
      " [-5.76926900e+00 -5.34560985e-01]\n",
      " [ 3.19267677e-01 -2.04813601e+00]\n",
      " [-5.77227390e+00 -2.65823002e+00]\n",
      " [-5.82003423e+00 -1.81156704e+00]\n",
      " [-5.72966229e+00 -1.59678811e+00]\n",
      " [-1.82339510e+00 -1.80411628e+00]\n",
      " [-3.72319955e+00 -1.91178051e-01]\n",
      " [-3.75877041e+00 -9.96087096e-01]\n",
      " [-5.82509773e+00 -1.55131202e+00]\n",
      " [-1.70378696e+00 -6.51038920e-01]\n",
      " [ 2.93612251e-01 -1.86900873e+00]\n",
      " [-1.77448254e+00 -1.59478662e+00]\n",
      " [ 1.03475648e+01  3.14508272e+00]\n",
      " [-1.68045400e+00 -2.75149292e-01]\n",
      " [-5.77599672e+00 -2.92089519e+00]\n",
      " [-5.78564458e+00 -1.63346350e+00]\n",
      " [-3.73572957e+00 -1.66432454e-01]\n",
      " [-5.70487946e+00  2.30975384e+00]\n",
      " [-3.81650145e+00 -1.89559523e+00]\n",
      " [ 8.28722965e+00  5.74028509e-02]\n",
      " [-3.77991834e+00 -8.66044642e-01]\n",
      " [-1.65098559e+00  3.83889130e-01]\n",
      " [-1.76765205e+00 -1.28365154e+00]\n",
      " [ 1.03884286e+01  3.36554813e+00]\n",
      " [-5.69824070e+00  9.06555787e-01]\n",
      " [-5.78780834e+00 -2.32995056e+00]\n",
      " [-5.79792269e+00 -1.42492076e+00]\n",
      " [-5.78645110e+00 -2.36365529e+00]\n",
      " [-5.77105187e+00 -5.15586383e-01]\n",
      " [-5.82147178e+00 -1.25111442e+00]\n",
      " [-3.79254407e+00 -1.67829905e+00]\n",
      " [ 1.24350442e+00 -1.36095116e+00]\n",
      " [-3.80265830e+00 -2.05945569e+00]\n",
      " [ 2.19370627e+00 -2.51189536e+00]\n",
      " [ 1.92398437e+01 -9.29916320e-01]\n",
      " [ 2.29440112e+00  8.90013863e-01]\n",
      " [-3.77545495e+00 -1.65837639e+00]\n",
      " [-5.80543760e+00 -2.29951162e+00]\n",
      " [ 8.24772583e+00  1.59289533e-01]\n",
      " [ 2.21078279e+00 -2.31172140e+00]\n",
      " [ 6.32855025e+00  9.98546154e-01]\n",
      " [-1.74905742e+00 -2.90075350e+00]\n",
      " [-3.74660550e+00 -3.56087946e-01]\n",
      " [-3.75926214e+00 -1.31367061e+00]\n",
      " [-3.71966100e+00  8.49370122e-01]\n",
      " [-3.78230132e+00 -1.37914678e+00]\n",
      " [ 3.13505652e-01  2.86108677e+00]\n",
      " [-5.69662343e+00  6.42103434e-01]\n",
      " [ 3.40118333e-01  1.29954590e+00]\n",
      " [ 2.22697973e+00 -1.05275963e+00]\n",
      " [-5.76219387e+00 -2.73872954e+00]\n",
      " [-1.77175476e+00 -2.33377372e+00]\n",
      " [-3.83044733e+00 -1.29270678e+00]\n",
      " [-3.74644932e+00 -1.33247690e+00]\n",
      " [ 3.22692571e-01  6.04620539e-01]\n",
      " [ 3.37640165e-01  5.17518484e+00]\n",
      " [-1.78293980e+00 -1.31583197e+00]\n",
      " [-3.66590420e+00  1.33844786e+00]\n",
      " [-5.68027857e+00  8.41952133e-01]\n",
      " [-3.72049152e+00 -1.07469218e+00]\n",
      " [-1.62220037e+00  1.64455445e+00]\n",
      " [-1.76357798e+00 -5.24953320e-01]\n",
      " [-3.74582912e+00 -3.21263775e-01]\n",
      " [ 6.23148406e+00 -5.14079332e-01]\n",
      " [-5.79012610e+00 -1.39205537e+00]\n",
      " [-5.77809088e+00 -2.07389089e+00]\n",
      " [-3.72218585e+00  2.29443470e+00]\n",
      " [-3.74015406e+00 -3.40606066e-02]\n",
      " [ 4.82665922e+01 -1.33595173e-01]\n",
      " [ 2.75684354e-01  5.19358116e-02]\n",
      " [ 2.20971121e+00 -2.13205909e+00]\n",
      " [-5.73456348e+00 -4.03601176e-01]\n",
      " [-3.74907484e+00 -4.73751612e-01]\n",
      " [ 6.26604228e+00 -1.03577567e+00]\n",
      " [-3.73798615e+00 -7.80137563e-01]\n",
      " [-1.80418839e+00 -1.16106167e+00]\n",
      " [ 4.19550733e+00 -7.99292004e-01]\n",
      " [-1.76722137e+00  6.59064852e-02]\n",
      " [-3.77007976e+00  3.06702532e-01]\n",
      " [ 2.89641829e-01  9.27150604e-01]\n",
      " [-1.73787697e+00 -4.26862489e-01]\n",
      " [-1.72919664e+00 -1.15818368e+00]\n",
      " [ 6.21084986e+00 -1.42683286e+00]\n",
      " [ 1.23689299e+01  1.09458968e+00]\n",
      " [-5.71800383e+00 -1.01587479e-01]\n",
      " [-1.70835068e+00  2.83783079e-01]\n",
      " [-1.69330269e+00  1.72559821e-01]\n",
      " [-5.73647476e+00 -1.84440032e+00]\n",
      " [ 1.84591457e-01 -1.28890692e+00]\n",
      " [-3.80153438e+00 -2.54455176e+00]\n",
      " [-3.73411963e+00 -1.21485345e+00]\n",
      " [-3.77151204e+00  1.68117393e-01]\n",
      " [ 3.01718770e-01 -1.14976024e+00]\n",
      " [-5.73617533e+00 -9.85279979e-01]\n",
      " [ 8.39526957e+00  3.58438864e+00]\n",
      " [-5.75343556e+00 -1.48948698e+00]\n",
      " [-1.77573094e+00 -1.55735927e+00]\n",
      " [ 2.02087056e+01 -1.60658709e+00]\n",
      " [-5.77164210e+00 -1.68697587e+00]\n",
      " [ 4.19135204e+00 -2.10358501e+00]\n",
      " [ 2.18405041e+00 -2.82088678e+00]\n",
      " [-3.77587427e+00 -1.25080439e+00]\n",
      " [ 3.70691585e-01  1.48619397e+00]\n",
      " [-1.74916671e+00 -7.91016140e-01]\n",
      " [ 2.13290885e-01 -1.38140280e+00]\n",
      " [-5.73899692e+00 -2.54349173e+00]\n",
      " [ 2.33704441e-01 -1.58266674e+00]\n",
      " [ 4.21142787e+00 -1.81883925e+00]\n",
      " [ 2.16187749e+00 -1.25881935e+00]\n",
      " [-3.72967818e+00 -1.12664155e-01]\n",
      " [-3.76768902e+00 -2.00061568e+00]\n",
      " [-5.77531013e+00 -9.74664673e-01]\n",
      " [ 1.43003725e+01  1.49422285e+00]\n",
      " [ 2.39539972e-01 -7.75317026e-01]\n",
      " [-3.76745737e+00 -1.31894788e+00]\n",
      " [ 1.82560639e-01  2.19583612e-02]\n",
      " [-3.75221483e+00 -9.49749076e-01]\n",
      " [ 1.23171704e+01  9.41789566e-01]\n",
      " [-5.78502213e+00 -1.06382885e-01]\n",
      " [-5.73818865e+00  1.36121459e+00]\n",
      " [-5.77768887e+00 -2.72023442e+00]\n",
      " [-3.71690871e+00  7.69629118e-01]\n",
      " [-5.66996337e+00  7.13860871e-01]\n",
      " [ 2.36735857e+00  2.64115479e+00]\n",
      " [-5.74672750e+00 -8.19629452e-01]\n",
      " [-5.79260061e+00  7.29700091e-02]\n",
      " [ 6.29438139e+00  1.32377789e+00]\n",
      " [ 1.02997949e+01 -5.02694957e-01]\n",
      " [-5.79562326e+00 -1.19020200e+00]\n",
      " [-5.78025399e+00 -1.76514405e+00]\n",
      " [-5.64997261e+00  2.62712870e+00]\n",
      " [-5.75087983e+00 -8.90855357e-01]\n",
      " [-5.74561720e+00  1.66076017e+00]\n",
      " [-5.77444815e+00 -1.76501080e+00]\n",
      " [-5.77008781e+00 -2.75019440e+00]\n",
      " [ 2.29255498e+00 -1.06945835e-02]\n",
      " [-3.78162883e+00 -2.44629191e+00]\n",
      " [-3.69459152e+00  1.49362150e+00]\n",
      " [-5.70541010e+00  1.97306911e+00]\n",
      " [-5.81635634e+00 -2.23385515e-01]\n",
      " [-5.76680983e+00 -1.54402330e+00]\n",
      " [-3.83044733e+00 -1.29270678e+00]\n",
      " [-5.72670257e+00 -1.20593371e+00]\n",
      " [-5.68683992e+00  4.24999669e+00]\n",
      " [-5.58162953e+00  4.31434555e+00]\n",
      " [ 3.40527437e-01  3.54372359e+00]\n",
      " [ 2.26888833e+00 -1.07750753e+00]\n",
      " [-5.65695702e+00  1.16180569e+00]\n",
      " [-5.71014303e+00 -2.15647892e+00]\n",
      " [-3.78577801e+00 -1.43078077e+00]\n",
      " [ 2.31652191e+00  1.08193370e+00]\n",
      " [ 3.89428109e-01  3.71702305e+00]\n",
      " [-3.74270437e+00 -8.58971812e-01]\n",
      " [-1.65396778e+00  3.33764186e+00]\n",
      " [-5.70213280e+00  8.50689723e-01]\n",
      " [ 2.89446337e-01  1.22065320e+00]\n",
      " [-5.70081945e+00  2.78968047e+00]\n",
      " [-3.67712281e+00  9.76365921e-01]\n",
      " [-5.65373769e+00  3.97228917e+00]\n",
      " [ 1.02257002e+01 -1.53094495e+00]\n",
      " [-1.68348683e+00  2.08896636e+00]\n",
      " [-5.73382661e+00 -1.71337482e+00]\n",
      " [-5.75150761e+00 -5.87133064e-01]\n",
      " [-5.74796940e+00 -1.95179433e+00]\n",
      " [-5.63355848e+00  2.17892409e+00]\n",
      " [-3.79901481e+00 -1.09208225e+00]\n",
      " [-5.67123697e+00  8.69462713e-01]\n",
      " [-5.74763266e+00  1.23402118e-01]\n",
      " [-1.75567929e+00 -2.36314050e-01]\n",
      " [-1.61269950e+00  2.53350621e+00]\n",
      " [-3.70961395e+00  1.89886536e+00]\n",
      " [-1.65711128e+00  1.28063648e+00]\n",
      " [ 4.35015523e+00  1.10406339e+00]\n",
      " [-1.70536292e+00 -1.91212027e+00]\n",
      " [ 4.30902766e+00  1.03176751e-02]\n",
      " [-3.72343531e+00 -1.08845989e+00]\n",
      " [-5.70429144e+00  7.50509154e-01]\n",
      " [ 5.02868386e+01 -1.44428804e+00]\n",
      " [ 8.28076052e+00 -2.08884777e+00]\n",
      " [ 6.32529437e+00  7.84172489e-01]\n",
      " [-3.74991244e+00 -2.32599493e-01]\n",
      " [-5.75285833e+00 -1.58410456e-01]\n",
      " [ 3.21985771e-01 -4.24493982e-02]\n",
      " [-1.64729474e+00  1.33936552e+00]\n",
      " [ 4.23033998e+00 -1.78441082e+00]\n",
      " [-5.76237490e+00 -5.95307764e-01]\n",
      " [ 6.35198625e+00  3.82324388e+00]\n",
      " [ 2.32438522e+00  1.21012700e+00]\n",
      " [-5.76467234e+00 -1.06256720e+00]\n",
      " [-5.75048181e+00 -1.14347488e+00]\n",
      " [-1.68845736e+00 -5.87343773e-01]\n",
      " [ 2.37399749e+00  2.41728751e+00]\n",
      " [ 1.83605207e+01 -9.83978930e-02]\n",
      " [-5.73239983e+00 -1.07511859e+00]\n",
      " [-3.62993870e+00  1.52507385e+00]\n",
      " [ 2.61876533e-01  2.85954970e-01]\n",
      " [-1.70556900e+00  8.05969842e-01]\n",
      " [ 1.22602730e+01 -9.67702484e-01]\n",
      " [ 2.08394706e-01 -3.17228187e-01]\n",
      " [ 2.23290555e+01  1.26888840e+00]\n",
      " [-7.04380488e-01  3.83575448e-01]\n",
      " [ 4.27197388e+00 -2.71698586e+00]\n",
      " [ 2.64852340e-01  1.21706849e+00]\n",
      " [ 2.58291686e-01 -1.55878215e+00]\n",
      " [ 4.33410975e+00 -5.88266808e-01]\n",
      " [ 7.41986062e+00  2.68272606e+00]\n",
      " [-5.76234671e+00 -5.34821885e-01]\n",
      " [ 9.35009182e+00  2.52190466e+00]\n",
      " [ 6.30120923e+00 -2.04367805e+00]\n",
      " [-3.67357981e+00  4.77342731e-01]\n",
      " [ 1.63848618e+01  1.29286772e+00]\n",
      " [ 7.39408946e+00  1.61429480e+00]\n",
      " [-2.66050586e+00  1.10013340e+00]\n",
      " [-1.75600544e+00 -9.41927972e-01]\n",
      " [-3.71396907e+00  9.54165177e-01]\n",
      " [-5.76202059e+00  2.40231707e-01]\n",
      " [-3.77030368e+00 -2.15410538e+00]\n",
      " [-5.56991347e+00  3.77724122e+00]\n",
      " [-5.76327987e+00 -1.90639035e+00]\n",
      " [ 1.02791657e+01 -7.10147167e-01]\n",
      " [ 4.31113986e+00  3.84744316e-01]\n",
      " [-3.69811823e+00  2.15971420e-01]\n",
      " [ 8.39162882e+00  2.71978179e+00]\n",
      " [ 4.27402891e+00 -6.56216928e-01]\n",
      " [ 8.31248094e+00 -1.29510845e+00]\n",
      " [-1.75529871e+00 -1.30653454e+00]\n",
      " [ 8.33059818e+00  4.75471932e-01]\n",
      " [-3.63042262e+00  2.56036421e-01]\n",
      " [ 1.21760621e+01 -9.93287821e-01]\n",
      " [ 4.27338812e+00 -5.81127481e-01]\n",
      " [-1.62028135e+00  3.12794007e+00]\n",
      " [ 1.41835079e+01 -9.18833331e-01]\n",
      " [-3.73624155e+00 -1.87982580e+00]\n",
      " [-5.59587200e+00  3.50902609e+00]\n",
      " [ 8.34299886e+00  2.01685867e+00]\n",
      " [-3.65032269e+00  4.32137825e-01]\n",
      " [-5.72987434e+00 -4.42707497e-01]\n",
      " [-5.72703670e+00 -9.33093628e-01]\n",
      " [-5.72316935e+00  7.02246418e-02]\n",
      " [ 2.21318543e-01 -6.34036946e-01]\n",
      " [-1.73398704e+00 -1.74406446e+00]\n",
      " [ 1.05775883e+01  5.30386918e+00]\n",
      " [ 2.33903822e+00  7.52860891e-01]\n",
      " [-5.72572896e+00  1.68408720e+00]\n",
      " [-5.60918521e+00  3.40639220e+00]\n",
      " [ 2.86379250e-01 -3.69204586e-01]\n",
      " [-1.58707233e+00  3.73162716e+00]\n",
      " [-5.72247344e+00  1.30422069e-01]\n",
      " [-5.67998644e+00  1.98860247e+00]\n",
      " [-3.73597325e+00  1.46915138e+00]\n",
      " [ 2.70178927e-01 -1.70545373e+00]\n",
      " [ 6.33418474e+00 -2.38347267e+00]\n",
      " [ 2.30357521e+00  3.51184510e-01]\n",
      " [-5.76352614e+00 -2.01115006e+00]\n",
      " [ 1.53630052e+01 -1.40245179e+00]\n",
      " [-3.68881949e+00 -1.54889472e+00]\n",
      " [-4.71693220e+00 -1.38445299e+00]\n",
      " [-1.72647777e+00 -1.46262846e+00]\n",
      " [-5.71811148e+00 -7.83185234e-01]\n",
      " [ 7.42086186e+00  1.52769740e+00]\n",
      " [-3.65373354e+00  2.78580403e+00]\n",
      " [ 2.35129482e+00  2.88382198e-01]\n",
      " [ 4.34240084e+00  1.55257527e+00]\n",
      " [-5.67986697e+00  1.06588864e+00]\n",
      " [ 9.40609526e+00  2.53641678e+00]\n",
      " [-1.67560989e+00  1.15801013e+00]\n",
      " [-3.73883000e+00 -6.42886374e-02]\n",
      " [-3.72536150e+00 -1.46511911e-01]\n",
      " [-3.72551858e+00 -1.57354355e+00]\n",
      " [ 3.00271572e-01  1.77235788e+00]\n",
      " [ 6.92189491e+01 -3.51252676e+00]\n",
      " [ 1.63945984e+01  5.80817185e-01]\n",
      " [ 9.31890602e+00 -6.20967947e-01]\n",
      " [ 2.35826226e+00 -1.06057357e+00]\n",
      " [ 2.43235126e+01  1.98435733e+00]\n",
      " [ 1.33617418e+01  2.07756571e+00]\n",
      " [-4.74866394e+00 -1.21421345e+00]\n",
      " [-1.74457215e+00  4.99035832e-01]\n",
      " [-1.73087322e+00  1.11604271e+00]\n",
      " [-3.74182765e+00  2.28076367e-01]\n",
      " [-6.94878070e-01 -4.79026341e-01]\n",
      " [ 2.30122664e-01 -9.08447727e-01]\n",
      " [ 3.37285171e-01  4.69938745e-01]\n",
      " [ 3.30749183e+00 -1.46871472e+00]\n",
      " [ 5.35659613e+00  7.47110491e-01]\n",
      " [-5.69234204e+00 -1.49458377e+00]\n",
      " [ 6.25668639e+00 -2.85208093e-04]\n",
      " [ 2.62831522e-01 -2.15563148e+00]\n",
      " [ 2.26267141e+00 -1.04444249e+00]\n",
      " [-1.69226542e+00  8.21533531e-01]\n",
      " [-5.56867703e+00  1.00142310e+00]\n",
      " [ 4.34309542e+00  1.99795971e-01]\n",
      " [-5.69374564e+00 -1.41031934e+00]\n",
      " [-6.27156871e-01 -7.78899677e-01]\n",
      " [ 8.31801640e+00 -1.20242244e+00]\n",
      " [-5.67366486e+00 -1.05375361e+00]\n",
      " [-5.72015578e+00 -1.29487388e+00]\n",
      " [-5.73210515e+00 -9.22728759e-01]\n",
      " [ 1.43206329e+01 -4.08889206e-01]\n",
      " [ 2.28659828e+00 -7.41246312e-01]\n",
      " [-5.66357539e+00  7.85971902e-01]\n",
      " [ 3.23279237e+01 -9.50176036e-01]\n",
      " [-5.66164616e+00  1.02688089e+00]\n",
      " [ 1.23269400e+01  1.15335063e+00]\n",
      " [-5.64096214e+00  1.16586097e+00]\n",
      " [ 1.42822935e+01 -1.37159853e+00]\n",
      " [-2.68401011e+00  1.16192368e+00]\n",
      " [ 1.63487737e+01 -1.27309014e+00]\n",
      " [ 8.29960068e+00 -1.13133768e+00]\n",
      " [ 3.42889258e+01 -2.41434427e+00]\n",
      " [-5.68749698e+00 -1.84073326e-01]\n",
      " [ 3.30018573e+00 -6.50089142e-01]\n",
      " [-5.62618576e+00  2.32730788e+00]\n",
      " [-3.61863598e+00  1.82479532e+00]\n",
      " [ 1.72762855e+01 -1.51646048e+00]\n",
      " [ 6.24886860e+00 -1.83933392e+00]\n",
      " [-2.71553978e+00 -5.08708967e-01]\n",
      " [-4.69166719e+00  1.23582186e+00]\n",
      " [-5.70666262e+00  8.26113015e-01]\n",
      " [-2.65079989e+00 -4.46623020e-01]\n",
      " [-2.59948207e+00  3.48147359e+00]\n",
      " [ 2.39922798e+00  4.65413495e+00]\n",
      " [ 1.31547729e+00  3.01342006e-01]\n",
      " [-1.69978180e+00 -8.09500616e-01]\n",
      " [-3.65740979e+00  3.02460743e+00]\n",
      " [ 1.23539866e+00 -8.60763586e-01]\n",
      " [-5.69789904e+00 -3.10506964e-01]\n",
      " [-5.70602879e+00 -8.40351187e-01]\n",
      " [-5.73182886e+00 -1.22242143e-02]\n",
      " [ 1.02992359e+01  8.54420521e-01]\n",
      " [ 6.31520747e+00  5.99401584e-01]\n",
      " [-5.66901617e+00 -2.23986478e-03]\n",
      " [ 1.29120816e+00 -1.87174553e+00]\n",
      " [-1.66628884e+00  2.96840110e-01]\n",
      " [-1.63854540e+00  1.38307243e+00]\n",
      " [-5.62971580e+00 -2.73725639e-01]\n",
      " [ 5.33346001e+00  3.83182748e-01]\n",
      " [-5.72469028e+00 -6.76383190e-01]\n",
      " [-1.69582163e+00 -3.75161477e-01]\n",
      " [ 1.34579402e+00  3.27402212e-01]\n",
      " [ 3.30997254e+00 -1.02938680e+00]\n",
      " [-5.63825664e+00  1.88767449e+00]\n",
      " [-5.68268129e+00  2.27173442e-01]\n",
      " [ 4.44563123e+00  5.13749198e+00]\n",
      " [ 2.37946263e+00  2.81203878e+00]\n",
      " [-3.67508109e+00  1.36399115e+00]\n",
      " [ 1.34268590e+00  1.20232575e+00]\n",
      " [-1.63301560e+00  3.43350752e+00]\n",
      " [-1.66416689e+00  9.65918214e-01]\n",
      " [-5.70323809e+00 -9.35426460e-02]\n",
      " [-1.69837720e+00 -4.32737933e-01]\n",
      " [-3.69471073e+00 -1.42341287e-01]\n",
      " [-1.70563029e+00  7.38123888e-02]\n",
      " [-5.75347335e+00 -5.87959659e-01]\n",
      " [-5.65628837e+00  2.23276981e+00]\n",
      " [-3.68497192e+00  2.19691608e+00]\n",
      " [-5.65627120e+00  6.10743523e-02]\n",
      " [-5.67805616e+00 -1.51726922e+00]\n",
      " [-5.72654093e+00 -6.12160748e-01]\n",
      " [-1.63384278e+00  2.12182602e+00]\n",
      " [-5.65905622e+00 -4.75587553e-01]\n",
      " [-5.72428939e+00 -9.27123494e-01]\n",
      " [-5.68273781e+00  1.24412621e-01]\n",
      " [ 4.36785440e+00  2.49203388e-01]\n",
      " [-1.65599934e+00 -8.59317290e-01]\n",
      " [-2.66506238e+00  1.46884054e+00]\n",
      " [ 2.24333312e+00 -1.03622742e+00]\n",
      " [ 8.29938007e+00  1.19486753e+00]\n",
      " [-5.67961041e+00 -1.11601989e+00]\n",
      " [-3.72971688e+00  1.89815986e-01]\n",
      " [-1.63814027e+00 -7.37386526e-02]\n",
      " [-1.59349913e+00  1.36367971e+00]\n",
      " [-5.64629490e+00 -1.15304230e+00]\n",
      " [ 1.13152310e+01  7.25883883e-01]\n",
      " [-1.58823981e+00  5.95652988e-01]\n",
      " [-6.86326457e-01  1.59343181e+00]\n",
      " [-3.74680618e+00 -7.77024353e-01]\n",
      " [-5.65998815e+00  1.68191480e+00]\n",
      " [ 8.38653971e+00  1.70637249e+00]\n",
      " [-3.68602332e+00  7.68075731e-01]\n",
      " [ 1.33880396e+00  5.95172508e-01]\n",
      " [-5.68673822e+00  3.97075301e-01]\n",
      " [-5.68365323e+00 -6.76419763e-01]\n",
      " [-5.71792809e+00 -8.88770474e-01]\n",
      " [ 5.45911039e+00  4.71045318e+00]\n",
      " [-2.61116833e+00  2.77626500e+00]\n",
      " [-2.56861289e+00  3.50714803e+00]\n",
      " [-5.62986082e+00  2.09034610e+00]\n",
      " [-6.25111465e-01  2.23977670e+00]]\n"
     ]
    }
   ],
   "source": [
    "print(X2D)"
   ]
  },
  {
   "cell_type": "code",
   "execution_count": 185,
   "metadata": {},
   "outputs": [
    {
     "name": "stdout",
     "output_type": "stream",
     "text": [
      "[[ 0.32288265 -0.89861024 -0.63625115  1.18440883  2.10621611  0.14137951]\n",
      " [-1.76626411 -0.70136919  2.34932267 -0.40412122 -0.09803094 -1.11298081]\n",
      " [ 4.24573432  0.32916717  1.60923353 -0.70411389 -2.70685618 -0.37871647]\n",
      " ...\n",
      " [-2.56861289  3.50714803  3.68856281  0.54027022  2.4041495  -0.27533685]\n",
      " [-5.62986082  2.0903461   0.13350954 -1.17628749  0.23025468  1.77894915]\n",
      " [-0.62511146  2.2397767   2.1700664  -1.35407443  0.27772137  2.00194819]]\n"
     ]
    }
   ],
   "source": [
    "pca = PCA(n_components=0.95)\n",
    "X_reduced = pca.fit_transform(X)\n",
    "print(X_reduced)"
   ]
  },
  {
   "cell_type": "code",
   "execution_count": 190,
   "metadata": {},
   "outputs": [
    {
     "data": {
      "text/html": [
       "<div>\n",
       "<style scoped>\n",
       "    .dataframe tbody tr th:only-of-type {\n",
       "        vertical-align: middle;\n",
       "    }\n",
       "\n",
       "    .dataframe tbody tr th {\n",
       "        vertical-align: top;\n",
       "    }\n",
       "\n",
       "    .dataframe thead th {\n",
       "        text-align: right;\n",
       "    }\n",
       "</style>\n",
       "<table border=\"1\" class=\"dataframe\">\n",
       "  <thead>\n",
       "    <tr style=\"text-align: right;\">\n",
       "      <th></th>\n",
       "      <th>age</th>\n",
       "      <th>Medu</th>\n",
       "      <th>Fedu</th>\n",
       "      <th>traveltime</th>\n",
       "      <th>studytime</th>\n",
       "      <th>failures</th>\n",
       "      <th>famrel</th>\n",
       "      <th>freetime</th>\n",
       "      <th>goout</th>\n",
       "      <th>Dalc</th>\n",
       "      <th>Walc</th>\n",
       "      <th>health</th>\n",
       "      <th>absences</th>\n",
       "    </tr>\n",
       "  </thead>\n",
       "  <tbody>\n",
       "    <tr>\n",
       "      <td>0</td>\n",
       "      <td>18</td>\n",
       "      <td>4</td>\n",
       "      <td>4</td>\n",
       "      <td>2</td>\n",
       "      <td>2</td>\n",
       "      <td>0</td>\n",
       "      <td>4</td>\n",
       "      <td>3</td>\n",
       "      <td>4</td>\n",
       "      <td>1</td>\n",
       "      <td>1</td>\n",
       "      <td>3</td>\n",
       "      <td>6</td>\n",
       "    </tr>\n",
       "    <tr>\n",
       "      <td>1</td>\n",
       "      <td>17</td>\n",
       "      <td>1</td>\n",
       "      <td>1</td>\n",
       "      <td>1</td>\n",
       "      <td>2</td>\n",
       "      <td>0</td>\n",
       "      <td>5</td>\n",
       "      <td>3</td>\n",
       "      <td>3</td>\n",
       "      <td>1</td>\n",
       "      <td>1</td>\n",
       "      <td>3</td>\n",
       "      <td>4</td>\n",
       "    </tr>\n",
       "    <tr>\n",
       "      <td>2</td>\n",
       "      <td>15</td>\n",
       "      <td>1</td>\n",
       "      <td>1</td>\n",
       "      <td>1</td>\n",
       "      <td>2</td>\n",
       "      <td>3</td>\n",
       "      <td>4</td>\n",
       "      <td>3</td>\n",
       "      <td>2</td>\n",
       "      <td>2</td>\n",
       "      <td>3</td>\n",
       "      <td>3</td>\n",
       "      <td>10</td>\n",
       "    </tr>\n",
       "    <tr>\n",
       "      <td>3</td>\n",
       "      <td>15</td>\n",
       "      <td>4</td>\n",
       "      <td>2</td>\n",
       "      <td>1</td>\n",
       "      <td>3</td>\n",
       "      <td>0</td>\n",
       "      <td>3</td>\n",
       "      <td>2</td>\n",
       "      <td>2</td>\n",
       "      <td>1</td>\n",
       "      <td>1</td>\n",
       "      <td>5</td>\n",
       "      <td>2</td>\n",
       "    </tr>\n",
       "    <tr>\n",
       "      <td>4</td>\n",
       "      <td>16</td>\n",
       "      <td>3</td>\n",
       "      <td>3</td>\n",
       "      <td>1</td>\n",
       "      <td>2</td>\n",
       "      <td>0</td>\n",
       "      <td>4</td>\n",
       "      <td>3</td>\n",
       "      <td>2</td>\n",
       "      <td>1</td>\n",
       "      <td>2</td>\n",
       "      <td>5</td>\n",
       "      <td>4</td>\n",
       "    </tr>\n",
       "  </tbody>\n",
       "</table>\n",
       "</div>"
      ],
      "text/plain": [
       "   age  Medu  Fedu  traveltime  studytime  failures  famrel  freetime  goout  \\\n",
       "0   18     4     4           2          2         0       4         3      4   \n",
       "1   17     1     1           1          2         0       5         3      3   \n",
       "2   15     1     1           1          2         3       4         3      2   \n",
       "3   15     4     2           1          3         0       3         2      2   \n",
       "4   16     3     3           1          2         0       4         3      2   \n",
       "\n",
       "   Dalc  Walc  health  absences  \n",
       "0     1     1       3         6  \n",
       "1     1     1       3         4  \n",
       "2     2     3       3        10  \n",
       "3     1     1       5         2  \n",
       "4     1     2       5         4  "
      ]
     },
     "execution_count": 190,
     "metadata": {},
     "output_type": "execute_result"
    }
   ],
   "source": [
    "X.head()"
   ]
  },
  {
   "cell_type": "markdown",
   "metadata": {},
   "source": [
    "# Classification"
   ]
  },
  {
   "cell_type": "code",
   "execution_count": 61,
   "metadata": {},
   "outputs": [],
   "source": [
    "df[\"Average\"] = (df['G1'] + df['G2'] + df['G3']) / 3\n",
    "df[\"Approved\"] = [ (1 if x > 10 else 0) for x in df[\"Average\"] ]"
   ]
  },
  {
   "cell_type": "code",
   "execution_count": 62,
   "metadata": {},
   "outputs": [],
   "source": [
    "attributes = [\"age\", \"Medu\", \"Fedu\", \"traveltime\", \"studytime\", \"failures\", \"famrel\", \"freetime\", \"goout\", \"Dalc\", \"Walc\", \"health\", \"absences\"]"
   ]
  },
  {
   "cell_type": "code",
   "execution_count": 64,
   "metadata": {},
   "outputs": [],
   "source": [
    "X = df[attributes]\n",
    "Y = df[\"Approved\"]"
   ]
  },
  {
   "cell_type": "markdown",
   "metadata": {},
   "source": [
    "# train_test_split"
   ]
  },
  {
   "cell_type": "code",
   "execution_count": 208,
   "metadata": {},
   "outputs": [
    {
     "name": "stdout",
     "output_type": "stream",
     "text": [
      "rows in train set: 276 \n",
      "rows in test set: 119\n"
     ]
    }
   ],
   "source": [
    "from sklearn.model_selection import train_test_split    #Divide dataset\n",
    "X_train,X_test,Y_train,Y_test = train_test_split(X,Y,test_size=0.30,random_state=1)\n",
    "print(f\"rows in train set: {len(X_train)} \\nrows in test set: {len(X_test)}\")"
   ]
  },
  {
   "cell_type": "markdown",
   "metadata": {},
   "source": [
    "# Decision tree classifier"
   ]
  },
  {
   "cell_type": "code",
   "execution_count": 66,
   "metadata": {},
   "outputs": [
    {
     "data": {
      "text/plain": [
       "DecisionTreeClassifier(class_weight=None, criterion='gini', max_depth=None,\n",
       "                       max_features=None, max_leaf_nodes=None,\n",
       "                       min_impurity_decrease=0.0, min_impurity_split=None,\n",
       "                       min_samples_leaf=10, min_samples_split=2,\n",
       "                       min_weight_fraction_leaf=0.0, presort=False,\n",
       "                       random_state=None, splitter='best')"
      ]
     },
     "execution_count": 66,
     "metadata": {},
     "output_type": "execute_result"
    }
   ],
   "source": [
    "from sklearn.tree import DecisionTreeClassifier\n",
    "model = DecisionTreeClassifier(min_samples_leaf=10)\n",
    "model.fit(X,Y)"
   ]
  },
  {
   "cell_type": "code",
   "execution_count": 67,
   "metadata": {},
   "outputs": [
    {
     "data": {
      "text/plain": [
       "0.7518987341772152"
      ]
     },
     "execution_count": 67,
     "metadata": {},
     "output_type": "execute_result"
    }
   ],
   "source": [
    "model.score(X,Y)"
   ]
  },
  {
   "cell_type": "code",
   "execution_count": 68,
   "metadata": {},
   "outputs": [],
   "source": [
    "from sklearn.metrics import recall_score, precision_score, confusion_matrix"
   ]
  },
  {
   "cell_type": "code",
   "execution_count": 194,
   "metadata": {},
   "outputs": [
    {
     "name": "stdout",
     "output_type": "stream",
     "text": [
      "Train Score LR- 77.17391304347827 %\n",
      "Test Score LR- 61.34453781512605 %\n",
      "Recall score 0.6050516647531573\n",
      "Precision score 0.6060869565217392\n",
      "Confusion Matrix:\n",
      " [[28 24]\n",
      " [22 45]]\n"
     ]
    }
   ],
   "source": [
    "model.fit(X_train,Y_train)\n",
    "Y_pred = model.predict(X_test)\n",
    "print(\"Train Score LR-\", model.score(X_train, Y_train)*100 , \"%\")\n",
    "print(\"Test Score LR-\", model.score(X_test, Y_test)*100, \"%\")\n",
    "print(\"Recall score\", recall_score(Y_test, Y_pred, average='macro'))\n",
    "print(\"Precision score\", precision_score(Y_test, Y_pred, average='macro')) \n",
    "print (\"Confusion Matrix:\\n\", confusion_matrix(Y_test, Y_pred))"
   ]
  },
  {
   "cell_type": "markdown",
   "metadata": {},
   "source": [
    "* <b>confusion matrix - </b> is a tabular summary of the number of correct and incorrect predictions made by a classifier. It can be used to evaluate the performance of a classification model through the calculation of performance metrics like accuracy, precision, recall, and F1-score.\n",
    "* <b>recall - </b> is the ratio tp / (tp + fn) where tp is the number of true positives and fn the number of false negatives. The recall is intuitively the ability of the classifier to find all the positive samples. The best value is 1 and the worst value is 0.\n",
    "* <b>precision - </b> is the ratio tp / (tp + fp) where tp is the number of true positives and fp the number of false positives. The precision is intuitively the ability of the classifier not to label as positive a sample that is negative. The best value is 1 and the worst value is 0."
   ]
  },
  {
   "cell_type": "code",
   "execution_count": 178,
   "metadata": {},
   "outputs": [
    {
     "name": "stdout",
     "output_type": "stream",
     "text": [
      "Accuracy: 0.6134453781512605\n"
     ]
    }
   ],
   "source": [
    "from sklearn.metrics import accuracy_score\n",
    "Y_pred = model.predict(X_test)\n",
    "print(\"Accuracy:\",accuracy_score(Y_test,Y_pred))"
   ]
  },
  {
   "cell_type": "code",
   "execution_count": 72,
   "metadata": {},
   "outputs": [],
   "source": [
    "from sklearn.model_selection import train_test_split\n",
    "X_train,X_test,Y_train,Y_test = train_test_split(X,Y,test_size=0.3,random_state = 1)"
   ]
  },
  {
   "cell_type": "markdown",
   "metadata": {},
   "source": [
    "# KNN classifier"
   ]
  },
  {
   "cell_type": "code",
   "execution_count": 74,
   "metadata": {},
   "outputs": [],
   "source": [
    "from sklearn.neighbors import KNeighborsClassifier\n",
    "from sklearn.metrics import accuracy_score,recall_score,precision_score,confusion_matrix\n",
    "Y = df[\"Approved\"]"
   ]
  },
  {
   "cell_type": "code",
   "execution_count": 75,
   "metadata": {},
   "outputs": [
    {
     "data": {
      "text/plain": [
       "KNeighborsClassifier(algorithm='auto', leaf_size=30, metric='minkowski',\n",
       "                     metric_params=None, n_jobs=None, n_neighbors=10, p=2,\n",
       "                     weights='uniform')"
      ]
     },
     "execution_count": 75,
     "metadata": {},
     "output_type": "execute_result"
    }
   ],
   "source": [
    "knn = KNeighborsClassifier(n_neighbors=10)\n",
    "knn.fit(X,Y)"
   ]
  },
  {
   "cell_type": "code",
   "execution_count": 76,
   "metadata": {},
   "outputs": [
    {
     "data": {
      "text/plain": [
       "0.6911392405063291"
      ]
     },
     "execution_count": 76,
     "metadata": {},
     "output_type": "execute_result"
    }
   ],
   "source": [
    "knn.score(X,Y)"
   ]
  },
  {
   "cell_type": "code",
   "execution_count": 195,
   "metadata": {},
   "outputs": [
    {
     "name": "stdout",
     "output_type": "stream",
     "text": [
      "Train Score LR- 52.89855072463768 %\n",
      "Test Score LR- 66.38655462184873 %\n",
      "Recall score 0.6519804822043629\n",
      "Precision score 0.6576831447290054\n",
      "Confusion matrix:\n",
      " [[29 23]\n",
      " [17 50]]\n"
     ]
    }
   ],
   "source": [
    "knn.fit(X_test,Y_test)\n",
    "Y_pred = knn.predict(X_test)\n",
    "print(\"Train Score LR-\", knn.score(X_train, Y_train)*100 , \"%\")\n",
    "print(\"Test Score LR-\", knn.score(X_test, Y_test)*100, \"%\")\n",
    "print(\"Recall score\", recall_score(Y_test, Y_pred, average='macro'))\n",
    "print(\"Precision score\", precision_score(Y_test, Y_pred, average='macro')) \n",
    "print (\"Confusion matrix:\\n\", confusion_matrix(Y_test, Y_pred))"
   ]
  },
  {
   "cell_type": "code",
   "execution_count": 83,
   "metadata": {},
   "outputs": [
    {
     "name": "stdout",
     "output_type": "stream",
     "text": [
      "Accuracy: 0.6638655462184874\n"
     ]
    }
   ],
   "source": [
    "from sklearn.metrics import accuracy_score\n",
    "Y_pred = knn.predict(X_test)\n",
    "print(\"Accuracy:\",accuracy_score(Y_test,Y_pred))"
   ]
  },
  {
   "cell_type": "markdown",
   "metadata": {},
   "source": [
    "# ensemble"
   ]
  },
  {
   "cell_type": "code",
   "execution_count": 94,
   "metadata": {},
   "outputs": [],
   "source": [
    "# bagging method\n",
    "import pandas as pd\n",
    "from sklearn import model_selection\n",
    "from sklearn.linear_model import LogisticRegression\n",
    "from sklearn.tree import DecisionTreeClassifier\n",
    "from sklearn.neighbors import KNeighborsClassifier\n",
    "from sklearn.metrics import accuracy_score\n",
    "from sklearn.ensemble import VotingClassifier"
   ]
  },
  {
   "cell_type": "code",
   "execution_count": 95,
   "metadata": {},
   "outputs": [],
   "source": [
    "estimators = []\n",
    "model1=KNeighborsClassifier(n_neighbors=3)\n",
    "estimators.append(('KNN', model1))"
   ]
  },
  {
   "cell_type": "code",
   "execution_count": 96,
   "metadata": {},
   "outputs": [],
   "source": [
    "model2 = DecisionTreeClassifier()\n",
    "estimators.append(('cart', model2))"
   ]
  },
  {
   "cell_type": "code",
   "execution_count": 97,
   "metadata": {},
   "outputs": [],
   "source": [
    "ensemble = VotingClassifier(estimators)"
   ]
  },
  {
   "cell_type": "code",
   "execution_count": 103,
   "metadata": {},
   "outputs": [],
   "source": [
    "eclf1 = ensemble.fit(X_train,Y_train)"
   ]
  },
  {
   "cell_type": "code",
   "execution_count": 124,
   "metadata": {},
   "outputs": [
    {
     "data": {
      "text/plain": [
       "0.5546218487394958"
      ]
     },
     "execution_count": 124,
     "metadata": {},
     "output_type": "execute_result"
    }
   ],
   "source": [
    "y_pred=eclf1.predict(X_test)\n",
    "accuracy_score(Y_test, y_pred)"
   ]
  },
  {
   "cell_type": "code",
   "execution_count": 125,
   "metadata": {},
   "outputs": [],
   "source": [
    "from sklearn.ensemble import AdaBoostClassifier\n",
    "from sklearn import datasets\n",
    "\n",
    "from sklearn.model_selection import train_test_split\n",
    "\n",
    "from sklearn import metrics"
   ]
  },
  {
   "cell_type": "code",
   "execution_count": 126,
   "metadata": {},
   "outputs": [],
   "source": [
    "abc=AdaBoostClassifier(n_estimators=50)\n",
    "\n",
    "model = abc.fit(X_train, Y_train)\n",
    "\n",
    "y_pred = model.predict(X_test)"
   ]
  },
  {
   "cell_type": "code",
   "execution_count": 127,
   "metadata": {},
   "outputs": [
    {
     "name": "stdout",
     "output_type": "stream",
     "text": [
      "Accuracy: 0.6134453781512605\n"
     ]
    }
   ],
   "source": [
    "print(\"Accuracy:\", metrics.accuracy_score(Y_test, y_pred))"
   ]
  },
  {
   "cell_type": "code",
   "execution_count": null,
   "metadata": {},
   "outputs": [],
   "source": []
  }
 ],
 "metadata": {
  "kernelspec": {
   "display_name": "Python 3",
   "language": "python",
   "name": "python3"
  },
  "language_info": {
   "codemirror_mode": {
    "name": "ipython",
    "version": 3
   },
   "file_extension": ".py",
   "mimetype": "text/x-python",
   "name": "python",
   "nbconvert_exporter": "python",
   "pygments_lexer": "ipython3",
   "version": "3.7.4"
  }
 },
 "nbformat": 4,
 "nbformat_minor": 2
}
